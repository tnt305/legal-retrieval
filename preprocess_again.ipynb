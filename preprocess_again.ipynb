{
 "cells": [
  {
   "cell_type": "code",
   "execution_count": 1,
   "metadata": {},
   "outputs": [],
   "source": [
    "from src.preprocessor.utils.dataset_level import read_pickle, save_pickle, read_json, save_json\n",
    "\n",
    "corpus = read_pickle('/home/thiendc/projects/legal_retrieval/data/processed/corpus_v2.pkl')\n",
    "queries = read_pickle('/home/thiendc/projects/legal_retrieval/data/processed/queries_v2.pkl')\n",
    "# relevant_docs = read_pickle('/home/thiendc/projects/legal_retrieval/data/processed/relevant_docs.pkl')"
   ]
  },
  {
   "cell_type": "code",
   "execution_count": 2,
   "metadata": {},
   "outputs": [],
   "source": [
    "from src.preprocessor.vocab.duties_dict import DUTIES\n",
    "from src.preprocessor.vocab.legal_dict import LEGAL_DICT\n",
    "from src.preprocessor.vocab.special_terms import SPECIAL_TERMS"
   ]
  },
  {
   "cell_type": "code",
   "execution_count": 8,
   "metadata": {},
   "outputs": [],
   "source": [
    "DUTIES =  list(DUTIES.values())\n",
    "LEGAL_DICT = list(LEGAL_DICT.values())\n",
    "SPECIAL_TERMS = list(SPECIAL_TERMS.values())"
   ]
  },
  {
   "cell_type": "code",
   "execution_count": 18,
   "metadata": {},
   "outputs": [
    {
     "data": {
      "text/plain": [
       "{'0': 'Thông_tư này hướng_dẫn tuần_tra , canh_gác bảo_vệ đê Điều trong mùa lũ đối_với các tuyến đê sông được phân_loại , phân_cấp theo quy_định tại Điều_4 của Luật Đê_Điều .',\n",
       " '1': 'Hàng năm trước mùa mưa , lũ , Ủy_ban_nhân_dân cấp xã nơi có đê phải tổ_chức lực_lượng lao_động tại địa_phương để tuần_tra , canh_gác đê và thường_trực trên các điếm_canh đê hoặc nhà dân khu_vực gần đê ( đối_với những khu_vực chưa có điếm_canh đê ) , khi có báo_động_lũ từ cấp_I trở_lên đối_với tuyến sông có đê ( sau đây gọi tắt là lực_lượng tuần_tra , canh_gác đê ) . Lực_lượng tuần_tra , canh_gác đê được tổ_chức thành các đội , do Ủy_ban_nhân_dân cấp xã ra quyết_định thành_lập ; từ 01 đến 02 kilômét đê thành_lập 01 đội ; mỗi đội có từ 12 đến 18 người , trong đó có 01 đội_trưởng và 01 hoặc 02 đội phó . Danh_sách thành_viên đội tuần_tra , canh_gác đê được niêm_yết tại điếm_canh đê thuộc địa_bàn được phân_công . Khi lũ , bão có diễn_biến phức_tạp , kéo_dài ngày , Uỷ_ban nhân_dân cấp xã có_thể quyết_định việc bổ_sung thêm thành_viên cho đội tuần_tra , canh_gác đê .',\n",
       " '2': 'Tiêu_chuẩn của các thành_viên thuộc lực_lượng tuần_tra , canh_gác đê Là người khoẻ_mạnh , tháo_vát , đủ khả_năng đảm_đương những công_việc nặng_nhọc , kể_cả lúc mưa to , gió lớn , đêm_tối . Có tinh_thần trách_nhiệm , chịu_đựng gian_khổ , khắc_phục khó_khăn , quen sông_nước và biết bơi , có kiến_thức , kinh_nghiệm hộ_đê , phòng , chống lụt , bão .',\n",
       " '3': 'Nhiệm_vụ của lực_lượng tuần_tra , canh_gác đê Chấp_hành sự phân_công của Ban chỉ_huy phòng , chống lụt , bão các cấp và chịu sự hướng_dẫn về chuyên_môn nghiệp_vụ của cơ_quan chuyên_trách quản_lý đê Điều . Tuần_tra , canh_gác và thường_trực trên các điếm_canh đê , khi có báo_động_lũ từ cấp_I trở_lên đối_với tuyến sông có đê . Theo_dõi diễn_biến của đê Điều ; phát_hiện kịp_thời những hư_hỏng của đê Điều và báo_cáo ngay cho Ban chỉ_huy chống lụt bão xã , cán_bộ chuyên_trách quản_lý đê Điều phụ_trách tuyến đê đó và khẩn_trương tiến_hành xử_lý giờ đầu theo đúng kỹ_thuật đã được hướng_dẫn . Tham_gia xử_lý_sự_cố và tu_sửa kịp_thời những hư_hỏng của đê Điều , dưới sự hướng_dẫn về kỹ_thuật của cán_bộ chuyên_trách quản_lý đê Điều hoặc ý_kiến chỉ_đạo của cấp trên . Canh_gác , kiểm_tra phát_hiện và ngăn_chặn kịp_thời những hành_vi vi_phạm pháp Luật về đê Điều và phòng , chống lụt , bão và báo_cáo ngay cán_bộ chuyên_trách quản_lý đê Điều . Đeo phù_hiệu khi làm nhiệm_vụ .',\n",
       " '4': 'Phù_hiệu của lực_lượng tuần_tra , canh_gác đê Phù_hiệu của lực_lượng tuần_tra , canh_gác đê là một băng đỏ rộng 10cm , có ký_hiệu “ KTĐ ” màu vàng . Phù_hiệu được đeo trên khuỷu tay_áo bên trái , chữ “ KTĐ ” hướng ra phía ngoài .',\n",
       " '6': 'Khi báo_động_lũ ở cấp_I trở_lên , đội tuần_tra , canh_gác đê phải báo tín_hiệu cấp báo_động_lũ tại các điếm_canh đê , như sau : - Báo_động lũ ở cấp_I : 01 đèn màu xanh ( ban_ngày có_thể bổ_sung 01 biển hoặc cờ , hình tam_giác màu đỏ để dễ nhận biế ; - Báo_động lũ ở cấp_II : 02 đèn màu xanh ( ban_ngày có_thể bổ_sung 02 biển hoặc cờ , hình tam_giác màu đỏ để dễ nhận biế ; - Báo_động lũ ở cấp_III : 03 đèn màu xanh ( ban_ngày có_thể bổ_sung 03 biển hoặc cờ , hình tam_giác màu đỏ để dễ nhận biế . Các biển ( hoặc cờ ) , đèn báo_hiệu được treo theo chiều dọc , với chiều cao thích_hợp để mọi người trong khu_vực nhìn thấy được . Trường_hợp khẩn_cấp xảy ra sự_cố nguy_hiểm đe_dọa đến an_toàn của đê Điều , cần phải huy_động lực_lượng ứng_cứu thì đội_trưởng hoặc đội phó của đội tuần_tra , canh_gác đê cho đánh trống ( hoặc kẻn liên_hồi để báo_động .'}"
      ]
     },
     "execution_count": 18,
     "metadata": {},
     "output_type": "execute_result"
    }
   ],
   "source": [
    "corpus1 = {i: j for i, j in list(corpus.items())[:6]}\n",
    "corpus1"
   ]
  },
  {
   "cell_type": "code",
   "execution_count": 19,
   "metadata": {},
   "outputs": [
    {
     "name": "stdout",
     "output_type": "stream",
     "text": [
      "Thông_tư này hướng_dẫn tuần_tra , canh_gác bảo_vệ đê Điều trong mùa lũ đối_với các tuyến đê sông được phân_loại , phân_cấp theo quy_định tại Điều_4 của Luật Đê_Điều .\n",
      "------------------------\n",
      "Hàng năm trước mùa mưa , lũ , Ủy_ban_nhân_dân cấp xã nơi có đê phải tổ_chức lực_lượng lao_động tại địa_phương để tuần_tra , canh_gác đê và thường_trực trên các điếm_canh đê hoặc nhà dân khu_vực gần đê ( đối_với những khu_vực chưa có điếm_canh đê ) , khi có từ cấp_I trở_lên đối_với tuyến sông có đê ( sau đây gọi tắt là lực_lượng tuần_tra , canh_gác đê ) . Lực_lượng tuần_tra , canh_gác đê được tổ_chức thành các đội , do Ủy_ban_nhân_dân cấp xã ra quyết_định thành_lập ; từ 01 đến 02 kilômét đê thành_lập 01 đội ; mỗi đội có từ 12 đến 18 người , trong đó có 01 đội_trưởng và 01 hoặc 02 đội phó . Danh_sách thành_viên đội tuần_tra , canh_gác đê được niêm_yết tại điếm_canh đê thuộc địa_bàn được phân_công . Khi lũ , bão có diễn_biến phức_tạp , kéo_dài ngày , Uỷ_ban nhân_dân cấp xã có_thể quyết_định việc bổ_sung thêm thành_viên cho đội tuần_tra , canh_gác đê .\n",
      "------------------------\n",
      "Tiêu_chuẩn của các thành_viên thuộc lực_lượng tuần_tra , canh_gác đê Là người khoẻ_mạnh , tháo_vát , đủ khả_năng đảm_đương những công_việc nặng_nhọc , kể_cả lúc mưa to , gió lớn , đêm_tối . Có tinh_thần trách_nhiệm , chịu_đựng gian_khổ , khắc_phục khó_khăn , quen sông_nước và biết bơi , có kiến_thức , kinh_nghiệm hộ_đê , phòng , chống lụt , bão .\n",
      "------------------------\n",
      "Nhiệm_vụ của lực_lượng tuần_tra , canh_gác đê Chấp_hành sự phân_công của Ban chỉ_huy phòng , chống lụt , bão các cấp và chịu sự hướng_dẫn về chuyên_môn nghiệp_vụ của cơ_quan chuyên_trách quản_lý đê Điều . Tuần_tra , canh_gác và thường_trực trên các điếm_canh đê , khi có từ cấp_I trở_lên đối_với tuyến sông có đê . Theo_dõi diễn_biến của đê Điều ; phát_hiện kịp_thời những hư_hỏng của đê Điều và báo_cáo ngay cho Ban chỉ_huy chống lụt bão xã , cán_bộ chuyên_trách quản_lý đê Điều phụ_trách tuyến đê đó và khẩn_trương tiến_hành xử_lý giờ đầu theo đúng kỹ_thuật đã được hướng_dẫn . Tham_gia xử_lý_sự_cố và tu_sửa kịp_thời những hư_hỏng của đê Điều , dưới sự hướng_dẫn về kỹ_thuật của cán_bộ chuyên_trách quản_lý đê Điều hoặc ý_kiến chỉ_đạo của cấp trên . Canh_gác , kiểm_tra phát_hiện và ngăn_chặn kịp_thời những hành_vi vi_phạm pháp Luật về đê Điều và phòng , chống lụt , bão và báo_cáo ngay cán_bộ chuyên_trách quản_lý đê Điều . Đeo phù_hiệu khi làm nhiệm_vụ .\n",
      "------------------------\n",
      "Phù_hiệu của lực_lượng tuần_tra , canh_gác đê Phù_hiệu của lực_lượng tuần_tra , canh_gác đê là một băng đỏ rộng 10cm , có ký_hiệu “ KTĐ ” màu vàng . Phù_hiệu được đeo trên khuỷu tay_áo bên trái , chữ “ KTĐ ” hướng ra phía ngoài .\n",
      "------------------------\n",
      "Khi ở cấp_I trở_lên , đội tuần_tra , canh_gác đê phải báo tín_hiệu cấp tại các điếm_canh đê , như sau : - Báo_động lũ ở cấp_I : 01 đèn màu xanh ( ban_ngày có_thể bổ_sung 01 biển hoặc cờ , hình tam_giác màu đỏ để dễ nhận biế ; - Báo_động lũ ở cấp_II : 02 đèn màu xanh ( ban_ngày có_thể bổ_sung 02 biển hoặc cờ , hình tam_giác màu đỏ để dễ nhận biế ; - Báo_động lũ ở cấp_III : 03 đèn màu xanh ( ban_ngày có_thể bổ_sung 03 biển hoặc cờ , hình tam_giác màu đỏ để dễ nhận biế . Các biển ( hoặc cờ ) , đèn báo_hiệu được treo theo chiều dọc , với chiều cao thích_hợp để mọi người trong khu_vực nhìn thấy được . Trường_hợp khẩn_cấp xảy ra sự_cố nguy_hiểm đe_dọa đến an_toàn của đê Điều , cần phải huy_động lực_lượng ứng_cứu thì đội_trưởng hoặc đội phó của đội tuần_tra , canh_gác đê cho đánh trống ( hoặc kẻn liên_hồi để báo_động .\n",
      "------------------------\n"
     ]
    }
   ],
   "source": [
    "for i in list(corpus1.values()):\n",
    "    temp = []\n",
    "    for j in i.split(\" \"):\n",
    "        if len(j.split(\"_\")) == 3:\n",
    "            if j not in DUTIES and j not in LEGAL_DICT and j not in SPECIAL_TERMS:\n",
    "                if len(j.split(\"_\")) == 3:\n",
    "                    before, after = j.split(\"_\")[0] ,\"_\".join(j.split(\"_\")[1:])\n",
    "                    temp.append(before)\n",
    "                    temp.append(after)\n",
    "                else:\n",
    "                    temp.append(j)\n",
    "        else:\n",
    "            temp.append(j)\n",
    "    temp = \" \".join(temp)\n",
    "    print(temp)\n",
    "    print(\"------------------------\")\n",
    "    # break"
   ]
  },
  {
   "cell_type": "code",
   "execution_count": 11,
   "metadata": {},
   "outputs": [],
   "source": [
    "save_pickle('/home/thiendc/projects/legal_retrieval/data/processed/corpus.pkl', corpus)"
   ]
  },
  {
   "cell_type": "code",
   "execution_count": 12,
   "metadata": {},
   "outputs": [],
   "source": [
    "corpus_v2 = {i: j for i, j in corpus.items() if len(j.split(\" \")) <= 512}"
   ]
  },
  {
   "cell_type": "code",
   "execution_count": 2,
   "metadata": {},
   "outputs": [],
   "source": [
    "from src.preprocessor.preprocessor import TextPreprocessing\n",
    "preprocessor =  TextPreprocessing()"
   ]
  },
  {
   "cell_type": "code",
   "execution_count": 3,
   "metadata": {},
   "outputs": [
    {
     "name": "stderr",
     "output_type": "stream",
     "text": [
      "Processing queries: 100%|██████████| 119456/119456 [01:03<00:00, 1891.76it/s]\n"
     ]
    }
   ],
   "source": [
    "from tqdm import tqdm\n",
    "from multiprocessing import Pool\n",
    "\n",
    "def preprocess_text_wrapper(args):\n",
    "    i, j = args\n",
    "    return i, preprocessor.preprocess_text(j, punctuation_remover=False, stop_word_remover=False)\n",
    "\n",
    "# Prepare the input as a list of tuples for multiprocessing\n",
    "input_data = list(queries.items())\n",
    "\n",
    "queries_v2 = {}\n",
    "\n",
    "# Use Pool for parallel processing and tqdm for progress bar\n",
    "with Pool() as pool:\n",
    "    for i, processed_text in tqdm(pool.imap(preprocess_text_wrapper, input_data), total=len(input_data), desc=\"Processing queries\"):\n",
    "        queries_v2[i] = processed_text"
   ]
  },
  {
   "cell_type": "code",
   "execution_count": 7,
   "metadata": {},
   "outputs": [],
   "source": [
    "from src.preprocessor.utils.dataset_level import save_pickle\n",
    "save_pickle('/home/thiendc/projects/legal_retrieval/data/processed/queries_v2.pkl', queries_v2)"
   ]
  },
  {
   "cell_type": "code",
   "execution_count": 13,
   "metadata": {},
   "outputs": [
    {
     "name": "stderr",
     "output_type": "stream",
     "text": [
      "Processing queries: 100%|██████████| 234556/234556 [1:04:56<00:00, 60.19it/s] \n"
     ]
    }
   ],
   "source": [
    "from tqdm import tqdm\n",
    "from multiprocessing import Pool\n",
    "\n",
    "def preprocess_text_wrapper(args):\n",
    "    i, j = args\n",
    "    return i, preprocessor.preprocess_text(j, punctuation_remover=False, stop_word_remover=False)\n",
    "\n",
    "# Prepare the input as a list of tuples for multiprocessing\n",
    "input_data = list(corpus_v2.items())\n",
    "\n",
    "corpus_v3 = {}\n",
    "\n",
    "# Use Pool for parallel processing and tqdm for progress bar\n",
    "with Pool() as pool:\n",
    "    for i, processed_text in tqdm(pool.imap(preprocess_text_wrapper, input_data), total=len(input_data), desc=\"Processing queries\"):\n",
    "        corpus_v2[i] = processed_text"
   ]
  },
  {
   "cell_type": "code",
   "execution_count": 16,
   "metadata": {},
   "outputs": [],
   "source": [
    "save_pickle('/home/thiendc/projects/legal_retrieval/data/processed/corpus_v2.pkl', corpus_v2)"
   ]
  },
  {
   "cell_type": "code",
   "execution_count": 24,
   "metadata": {},
   "outputs": [],
   "source": [
    "jsons = read_json(\"/home/thiendc/projects/legal_retrieval/src/preprocessor/vocab/data/update_vocab_v2.json\")\n",
    "data = []\n",
    "for js in jsons:\n",
    "    if 'xa0' in js:\n",
    "        js = js.replace(\"xa0\", \"\")\n",
    "        js = js.replace(\"xA0\", \"\")\n",
    "        data.append(js)\n",
    "    else:\n",
    "        data.append(js)\n",
    "data = list(set(data))\n",
    "save_json(data, './src/preprocessor/vocab/data/update_vocab_v2.json')"
   ]
  }
 ],
 "metadata": {
  "kernelspec": {
   "display_name": "Python 3",
   "language": "python",
   "name": "python3"
  },
  "language_info": {
   "codemirror_mode": {
    "name": "ipython",
    "version": 3
   },
   "file_extension": ".py",
   "mimetype": "text/x-python",
   "name": "python",
   "nbconvert_exporter": "python",
   "pygments_lexer": "ipython3",
   "version": "3.10.15"
  }
 },
 "nbformat": 4,
 "nbformat_minor": 2
}
