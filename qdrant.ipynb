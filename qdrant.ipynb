{
 "cells": [
  {
   "cell_type": "code",
   "execution_count": 1,
   "metadata": {},
   "outputs": [
    {
     "name": "stderr",
     "output_type": "stream",
     "text": [
      "/home/thiendc/projects/.thienenv/lib/python3.10/site-packages/sentence_transformers/cross_encoder/CrossEncoder.py:13: TqdmExperimentalWarning: Using `tqdm.autonotebook.tqdm` in notebook mode. Use `tqdm.tqdm` instead to force console mode (e.g. in jupyter console)\n",
      "  from tqdm.autonotebook import tqdm, trange\n"
     ]
    }
   ],
   "source": [
    "import uuid\n",
    "import pandas as pd\n",
    "from tqdm import tqdm\n",
    "from qdrant_client import models, QdrantClient\n",
    "from sentence_transformers import SentenceTransformer, CrossEncoder\n",
    "from src.retrieval.dense.utils import download_hf_models\n",
    "from src.preprocessor.utils.dataset_level import read_pickle"
   ]
  },
  {
   "cell_type": "code",
   "execution_count": 2,
   "metadata": {},
   "outputs": [
    {
     "data": {
      "application/vnd.jupyter.widget-view+json": {
       "model_id": "44b4cbb12ca24672a7401309b8a43ee2",
       "version_major": 2,
       "version_minor": 0
      },
      "text/plain": [
       "Fetching 13 files:   0%|          | 0/13 [00:00<?, ?it/s]"
      ]
     },
     "metadata": {},
     "output_type": "display_data"
    }
   ],
   "source": [
    "download_hf_models('Tnt3o5/8k_vi_le_v2', 'minilm_l6')\n",
    "encoder = SentenceTransformer(model_name_or_path = './src/retrieval/dense/embeddings/models/minilm_l6')"
   ]
  },
  {
   "cell_type": "code",
   "execution_count": 3,
   "metadata": {},
   "outputs": [],
   "source": [
    "relevant_docs = read_pickle(\"data/processed/relevant_docs.pkl\")\n",
    "queries = read_pickle(\"data/processed/queries_v2.pkl\")\n",
    "corpus = read_pickle(\"data/processed/corpus_v2.pkl\")"
   ]
  },
  {
   "cell_type": "code",
   "execution_count": 4,
   "metadata": {},
   "outputs": [
    {
     "name": "stderr",
     "output_type": "stream",
     "text": [
      "Processing queries: 100%|██████████| 119456/119456 [00:00<00:00, 610656.10it/s]\n"
     ]
    }
   ],
   "source": [
    "\n",
    "def prepare_training_dataset(queries: dict, corpus: dict, relevant_docs: dict):\n",
    "    anchors = []\n",
    "    positives = []\n",
    "    \n",
    "    # Sử dụng tqdm để theo dõi tiến trình của vòng lặp\n",
    "    for query_id, docs in tqdm(relevant_docs.items(), desc='Processing queries'):\n",
    "        for doc_id in docs:\n",
    "            try:\n",
    "                # Thử truy cập cả query và document\n",
    "                anchor = queries[str(query_id)]\n",
    "                positive = corpus[str(doc_id)]\n",
    "\n",
    "                # Nếu không gặp lỗi, append vào danh sách\n",
    "                anchors.append(anchor)\n",
    "                positives.append(positive)\n",
    "\n",
    "            except KeyError as e:\n",
    "                # In ra thông báo lỗi và tiếp tục\n",
    "                # print(f\"Lỗi KeyError: {e} - Bỏ qua query_id: {query_id}, doc_id: {doc_id}\")\n",
    "                continue\n",
    "\n",
    "    df = {\n",
    "        \"anchor\": anchors,\n",
    "        \"positive\": positives\n",
    "    }\n",
    "    \n",
    "    return pd.DataFrame(df)\n",
    "\n",
    "docs  = prepare_training_dataset(queries, corpus, relevant_docs)"
   ]
  },
  {
   "cell_type": "code",
   "execution_count": 8,
   "metadata": {},
   "outputs": [],
   "source": [
    "docs = docs[:10]"
   ]
  },
  {
   "cell_type": "code",
   "execution_count": 11,
   "metadata": {},
   "outputs": [
    {
     "name": "stderr",
     "output_type": "stream",
     "text": [
      "/tmp/ipykernel_679489/1500673605.py:4: DeprecationWarning: `recreate_collection` method is deprecated and will be removed in the future. Use `collection_exists` to check collection existence and `create_collection` instead.\n",
      "  qdrant.recreate_collection(\n"
     ]
    },
    {
     "data": {
      "text/plain": [
       "True"
      ]
     },
     "execution_count": 11,
     "metadata": {},
     "output_type": "execute_result"
    }
   ],
   "source": [
    "query_string = \"Người học ngành quản lý khai thác công trình thủy lợi trình độ cao đẳng phải có khả năng học tập và nâng cao trình độ như thế nào?\"\n",
    "qdrant = QdrantClient(\":memory:\")\n",
    "\n",
    "qdrant.recreate_collection(\n",
    "    collection_name = \"legal_dense_retrieval\",\n",
    "    vectors_config = models.VectorParams(   \n",
    "        size= encoder.get_sentence_embedding_dimension(),\n",
    "        distance = models.Distance.COSINE\n",
    "        )\n",
    "    )\n"
   ]
  },
  {
   "cell_type": "code",
   "execution_count": 13,
   "metadata": {},
   "outputs": [],
   "source": [
    "qdrant.upload_points(\n",
    "    collection_name = \"legal_dense_retrieval\",\n",
    "    points = [\n",
    "        models.PointStruct( id = str(uuid.uuid4()), \n",
    "                            vector = encoder.encode(row[1]['anchor']),\n",
    "                            payload = {\"anchor\": row[1]['anchor'],\n",
    "                                      \"positive\": row[1]['positive']}\n",
    "                        )\n",
    "                        for row in docs.iterrows()\n",
    "    ],\n",
    ")\n"
   ]
  },
  {
   "cell_type": "code",
   "execution_count": 17,
   "metadata": {},
   "outputs": [],
   "source": [
    "hits = qdrant.search(\n",
    "    collection_name = \"legal_dense_retrieval\",\n",
    "    query_vector = encoder.encode(query_string).tolist(),\n",
    "    limit = 3\n",
    ")"
   ]
  },
  {
   "cell_type": "code",
   "execution_count": 18,
   "metadata": {},
   "outputs": [
    {
     "data": {
      "text/plain": [
       "[ScoredPoint(id='51df0ce0-8281-4bc8-beb8-2fd406fe1d96', version=0, score=0.6472786437257718, payload={'anchor': 'Người học ngành quản_lý khai_thác công_trình thủy_lợi trình_độ cao_đẳng phải có khả_năng học_tập và nâng_cao trình_độ như thế_nào ?', 'positive': 'Khả_năng học_tập , nâng_cao trình_độ - Khối_lượng khối_lượng kiến_thức tối_thiểu , yêu_cầu về năng_lực mà người học phải đạt được sau khi tốt_nghiệp ngành , nghề Mộc xây_dựng và trang_trí nội_thất , trình_độ cao_đẳng có_thể tiếp_tục phát_triển ở các trình_độ cao hơn ; - Người học sau tốt_nghiệp có năng_lực tự học , tự cập_nhật những tiến_bộ khoa_học công_nghệ trong phạm_vi ngành , nghề để nâng_cao trình_độ hoặc học liên_thông lên trình_độ cao hơn trong cùng ngành , nghề hoặc trong nhóm ngành , nghề hoặc trong cùng lĩnh_vực đào { tạo . / . } Người học ngành Mộc xây_dựng và trang_trí nội_thất trình_độ cao_đẳng phải có khả_năng học_tập , nâng_cao trình_độ như thế sau : - Khối_lượng khối_lượng kiến_thức tối_thiểu , yêu_cầu về năng_lực mà người học phải đạt được sau khi tốt_nghiệp ngành , nghề Mộc xây_dựng và trang_trí nội_thất , trình_độ cao_đẳng có_thể tiếp_tục phát_triển ở các trình_độ cao hơn ; - Người học sau tốt_nghiệp có năng_lực tự học , tự cập_nhật những tiến_bộ khoa_học công_nghệ trong phạm_vi ngành , nghề để nâng_cao trình_độ hoặc học liên_thông lên trình_độ cao hơn trong cùng ngành , nghề hoặc trong nhóm ngành , nghề hoặc trong cùng lĩnh_vực đào_tạo .'}, vector=None, shard_key=None, order_value=None),\n",
       " ScoredPoint(id='6887ec60-fa9d-4eb3-8cfe-19fd517eb46f', version=0, score=0.6472786437257718, payload={'anchor': 'Người học ngành quản_lý khai_thác công_trình thủy_lợi trình_độ cao_đẳng phải có khả_năng học_tập và nâng_cao trình_độ như thế_nào ?', 'positive': 'Khả_năng học_tập , nâng_cao trình_độ - Khối_lượng khối_lượng kiến_thức tối_thiểu , yêu_cầu về năng_lực mà người học phải đạt được sau khi tốt_nghiệp ngành , nghề Mộc xây_dựng và trang_trí nội_thất , trình_độ cao_đẳng có_thể tiếp_tục phát_triển ở các trình_độ cao hơn ; - Người học sau tốt_nghiệp có năng_lực tự học , tự cập_nhật những tiến_bộ khoa_học công_nghệ trong phạm_vi ngành , nghề để nâng_cao trình_độ hoặc học liên_thông lên trình_độ cao hơn trong cùng ngành , nghề hoặc trong nhóm ngành , nghề hoặc trong cùng lĩnh_vực đào { tạo . / . } Người học ngành Mộc xây_dựng và trang_trí nội_thất trình_độ cao_đẳng phải có khả_năng học_tập , nâng_cao trình_độ như thế sau : - Khối_lượng khối_lượng kiến_thức tối_thiểu , yêu_cầu về năng_lực mà người học phải đạt được sau khi tốt_nghiệp ngành , nghề Mộc xây_dựng và trang_trí nội_thất , trình_độ cao_đẳng có_thể tiếp_tục phát_triển ở các trình_độ cao hơn ; - Người học sau tốt_nghiệp có năng_lực tự học , tự cập_nhật những tiến_bộ khoa_học công_nghệ trong phạm_vi ngành , nghề để nâng_cao trình_độ hoặc học liên_thông lên trình_độ cao hơn trong cùng ngành , nghề hoặc trong nhóm ngành , nghề hoặc trong cùng lĩnh_vực đào_tạo .'}, vector=None, shard_key=None, order_value=None),\n",
       " ScoredPoint(id='53b75821-8c6c-456a-b77b-11f870060969', version=0, score=0.2848241518539133, payload={'anchor': 'Sản_phẩm phần_mềm có được hưởng ưu_đãi về thời_gian miễn thuế , giảm thuế hay không ? Nếu được thì trong vòng bao_nhiêu năm ?', 'positive': '\" Điều Ưu_đãi về thời_gian Miễn thuế , giảm thuế Miễn thuế bốn năm , giảm 50 % số thuế phải nộp trong chín năm tiếp_theo đối_với : Thu_nhập của doanh_nghiệp từ thực_hiện dự_án đầu_tư quy_định tại Khoản_1 Điều_19 Thông_tư số 78/2014/TTBTC ( được sửa_đổi , bổ_sung tại Khoản_1 Điều_11 Thông_tư nà . \"'}, vector=None, shard_key=None, order_value=None)]"
      ]
     },
     "execution_count": 18,
     "metadata": {},
     "output_type": "execute_result"
    }
   ],
   "source": [
    "hits"
   ]
  }
 ],
 "metadata": {
  "kernelspec": {
   "display_name": "Python 3",
   "language": "python",
   "name": "python3"
  },
  "language_info": {
   "codemirror_mode": {
    "name": "ipython",
    "version": 3
   },
   "file_extension": ".py",
   "mimetype": "text/x-python",
   "name": "python",
   "nbconvert_exporter": "python",
   "pygments_lexer": "ipython3",
   "version": "3.10.15"
  }
 },
 "nbformat": 4,
 "nbformat_minor": 2
}
