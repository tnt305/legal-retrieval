{
 "cells": [
  {
   "cell_type": "code",
   "execution_count": 11,
   "metadata": {},
   "outputs": [
    {
     "data": {
      "text/plain": [
       "'hướng_nội_dung'"
      ]
     },
     "execution_count": 11,
     "metadata": {},
     "output_type": "execute_result"
    }
   ],
   "source": [
    "from src.preprocessor.vocab.legal_dict import LEGAL_DICT\n",
    "\n",
    "from pyvi import ViTokenizer\n",
    "ViTokenizer.tokenize('hướng nội dung')"
   ]
  },
  {
   "cell_type": "code",
   "execution_count": 12,
   "metadata": {},
   "outputs": [
    {
     "data": {
      "text/plain": [
       "'hệthống'"
      ]
     },
     "execution_count": 12,
     "metadata": {},
     "output_type": "execute_result"
    }
   ],
   "source": [
    "from pyvi import ViTokenizer\n",
    "ViTokenizer.tokenize('hệthống')"
   ]
  },
  {
   "cell_type": "code",
   "execution_count": 15,
   "metadata": {},
   "outputs": [
    {
     "data": {
      "text/plain": [
       "'rong'"
      ]
     },
     "execution_count": 15,
     "metadata": {},
     "output_type": "execute_result"
    }
   ],
   "source": [
    "numbers = [1,2,3,4,5,6]\n",
    "item = \"nTrong_n1\"\n",
    "\n",
    "for word in text.split(\"_\"):\n",
    "    if item[0] == 'n':\n",
    "        if any(str(i) in item[1] for i in numbers):\n",
    "            if item[2] == item[2].upper():\n",
    "                new_item = item[2:]\n",
    "            else:\n",
    "                new_item = item\n",
    "        else:\n",
    "            if item[1] == item[1].upper():\n",
    "                new_item = item[1:]\n",
    "            else:\n",
    "                new_item = item"
   ]
  }
 ],
 "metadata": {
  "kernelspec": {
   "display_name": "Python 3",
   "language": "python",
   "name": "python3"
  },
  "language_info": {
   "codemirror_mode": {
    "name": "ipython",
    "version": 3
   },
   "file_extension": ".py",
   "mimetype": "text/x-python",
   "name": "python",
   "nbconvert_exporter": "python",
   "pygments_lexer": "ipython3",
   "version": "3.10.15"
  }
 },
 "nbformat": 4,
 "nbformat_minor": 2
}
