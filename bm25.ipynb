{
 "cells": [
  {
   "cell_type": "code",
   "execution_count": 1,
   "metadata": {},
   "outputs": [
    {
     "name": "stderr",
     "output_type": "stream",
     "text": [
      "An NVIDIA GPU may be present on this machine, but a CUDA-enabled jaxlib is not installed. Falling back to cpu.\n"
     ]
    }
   ],
   "source": [
    "import bm25s\n",
    "from src.preprocessor.preprocessor import TextPreprocessing\n",
    "from src.preprocessor.post_preprocessor import PostPreprocessing\n",
    "from src.retrieval.lexical.bm25_retrieval import BM25sRetrieval\n",
    "from src.preprocessor.utils.dataset_level import read_pickle"
   ]
  },
  {
   "cell_type": "code",
   "execution_count": 24,
   "metadata": {},
   "outputs": [
    {
     "name": "stdout",
     "output_type": "stream",
     "text": [
      "khoản chi hội thảo trong nước chi các hoạt động mang tính chất nghiên cứu khoa học thuộc chương trình. nội dung và mức chi thực hiện theo quy_định tại Điều_2 Điều_3 Điều_4 và Điều_6 thông tư số {03/2023/ttbtc} ngày 10 tháng 01 năm 2023 của Bộ_Tài_chính quy_định lập dự toán quản lý sử dụng và quyết toán kinh phí ngân sách nhà nước thực hiện nhiệm vụ khoa học và công nghệ sau đây viết tắt là thông tư số {03/2023/tt}\n",
      "-------\n"
     ]
    },
    {
     "data": {
      "text/plain": [
       "'khoản chi_hội_thảo trong nước chi các hoạt_động mang tính_chất nghiên_cứu khoa_học thuộc chương_trình . nội_dung và mức chi thực_hiện theo quy_định tại Điều_2 Điều_3_Điều_4 và Điều_6 thông_tư số 03/2023/ttbtc ngày 10 tháng 01 năm 2023 của Bộ_Tài_chính quy_định lập dự_toán quản_lý sử_dụng và quyết_toán kinh_phí ngân_sách nhà_nước thực_hiện nhiệm_vụ khoa_học và công_nghệ sau đây viết tắt là thông_tư số 03/2023/tt'"
      ]
     },
     "execution_count": 24,
     "metadata": {},
     "output_type": "execute_result"
    }
   ],
   "source": [
    "text = \"Khoản Chi hội thảo trong nước chi các hoạt động mang tính chất nghiên cứu khoa học thuộc Chương trình. Nội dung và mức chi thực hiện theo quy_định tại Điều_2 Điều_3 Điều_4 và Điều_6 Thông tư số 03/2023/TTBTC ngày 10 tháng 01 năm 2023 của Bộ_Tài_chính quy_định lập dự toán quản lý sử dụng và quyết toán kinh phí ngân sách nhà nước thực hiện nhiệm vụ khoa học và công nghệ sau đây viết tắt là Thông tư số 03/2023/TT\"\n",
    "import re\n",
    "import string\n",
    "from pyvi import ViTokenizer\n",
    "from src.preprocessor.vocab.stopwords import STOP_WORDS\n",
    "from src.preprocessor.vocab.legal_dict import LEGAL_DICT\n",
    "from src.preprocessor.vocab.duties_dict import DUTIES\n",
    "from src.preprocessor.vocab.special_terms import SPECIAL_TERMS\n",
    "from src.preprocessor.vocab.numeral_currency import CURRENCY\n",
    "from src.preprocessor.utils.sent_level import dupplicated_char_remover, preprocess_pyvi, postprocess_pyvi\n",
    "from src.preprocessor.legal_processing.legal_terms_tokenize import terms_of_law\n",
    "from src.preprocessor.legal_processing.duties_tokenize import duties_terms, ner_tokenize\n",
    "\n",
    "def url_remover(paragraph: str) -> str:\n",
    "    \"\"\"Remove URLs within parentheses from text.\"\"\"\n",
    "    pattern = r'\\([^)]*http[s]?://(?:[a-zA-Z]|[0-9]|[$-_@.&+]|[!*\\\\(\\\\),]|(?:%[0-9a-fA-F][0-9a-fA-F]))+[^)]*\\)'\n",
    "    \n",
    "    def replace_url(match):\n",
    "        content = match.group(0)\n",
    "        cleaned = re.sub(r'http[s]?://(?:[a-zA-Z]|[0-9]|[$-_@.&+]|[!*\\\\(\\\\),]|(?:%[0-9a-fA-F][0-9a-fA-F]))+', '', content)\n",
    "        return cleaned if cleaned.strip('() ') else ''\n",
    "        \n",
    "    return re.sub(pattern, replace_url, paragraph)\n",
    "def punctuation_remover(paragraph: str) -> str:\n",
    "    \"\"\"Remove punctuation marks from text and handle currency conversions.\"\"\"\n",
    "    # Loại bỏ dấu ngoặc khỏi số\n",
    "    paragraph = re.sub(r\"\\((\\d+)\\)\", r\"\\1\", paragraph)\n",
    "    paragraph = re.sub(r\"\\w+\\)\", \" \", paragraph)\n",
    "\n",
    "    # Tách các từ trong đoạn văn\n",
    "    words = paragraph.split()\n",
    "    updated_words = []\n",
    "\n",
    "    # Xử lý các từ liên quan đến số và tiền tệ\n",
    "    for item in words:\n",
    "        # Nếu từ kết thúc bằng ')' hoặc '.' và bắt đầu bằng số từ 1-9, loại bỏ từ đó\n",
    "        if item.endswith((')', '.')) and item[0] in '123456789':\n",
    "            continue\n",
    "\n",
    "        # Thay thế chính xác từ khớp với từ điển CURRENCY\n",
    "        if item in CURRENCY:\n",
    "            updated_words.append(CURRENCY[item])\n",
    "            continue\n",
    "\n",
    "        # Tìm và thay thế các trường hợp chứa mẫu trong từ điển CURRENCY\n",
    "        for key, value in CURRENCY.items():\n",
    "            if key in item:\n",
    "                item = item.replace(key, f\" {value}\")\n",
    "                break\n",
    "\n",
    "        updated_words.append(item)\n",
    "\n",
    "    # Kết hợp lại đoạn văn đã được cập nhật\n",
    "    paragraph = ' '.join(updated_words)\n",
    "\n",
    "    # Loại bỏ các dấu câu (trừ '/' và '.')\n",
    "    for punc in string.punctuation:\n",
    "        if punc == \":\":\n",
    "            paragraph = paragraph.replace(punc, \".\")\n",
    "        elif punc == '-':\n",
    "            paragraph = paragraph.replace(punc, \"\")\n",
    "        elif punc not in [\"/\", \".\"]:\n",
    "            paragraph = paragraph.replace(punc, \" \")\n",
    "\n",
    "    # Loại bỏ khoảng trắng thừa\n",
    "    return re.sub(r\"\\s+\", \" \", paragraph).strip()\n",
    "def line_breaker_remover(paragraph: str) -> str:\n",
    "    \"\"\"Remove line breaks from text.\"\"\"\n",
    "    para = re.sub(r\"\\\\n+\", \". \", paragraph)\n",
    "    para = re.sub(r\"\\n+\", \". \", paragraph)\n",
    "    para = re.sub(r\"\\.\\.\\.\", \" \", para)\n",
    "    para = re.sub(r'\\.{1,}', '.', para)\n",
    "    return para.replace(\"  \", \" \")\n",
    "def lowercase_standardizer(paragraph: str) -> str:\n",
    "    \"\"\"Convert text to lowercase.\"\"\"\n",
    "    return paragraph.lower()\n",
    "def white_space_remover(paragraph: str) -> str:\n",
    "        \"\"\"Remove extra whitespace from text.\"\"\"\n",
    "        para = paragraph.replace(\"  \", \" \")\n",
    "        return re.sub(r\"\\s{2,}\", \" \", para).strip()\n",
    "def legal_text_tokenizer(paragraph: str) -> str:\n",
    "    \"\"\"Tokenize legal terms in text.\"\"\"\n",
    "    \n",
    "    for phrase, replacement in LEGAL_DICT.items():\n",
    "        paragraph = paragraph.replace(phrase, replacement)\n",
    "    \n",
    "    paragraph = terms_of_law(paragraph)\n",
    "    paragraph = duties_terms(paragraph)\n",
    "    paragraph = dupplicated_char_remover(paragraph)   \n",
    "    return paragraph\n",
    "def text_tokenizer(paragraph: str) -> str:\n",
    "        \"\"\"Tokenize regular text.\"\"\"\n",
    "        paragraph = ner_tokenize(paragraph)\n",
    "        for phrase, replacement in SPECIAL_TERMS.items():\n",
    "            paragraph = paragraph.replace(phrase, replacement)\n",
    "        paragraph = preprocess_pyvi(paragraph)\n",
    "        paragraph = ViTokenizer.tokenize(paragraph)\n",
    "        paragraph = postprocess_pyvi(paragraph)\n",
    "        return paragraph\n",
    "\n",
    "text_tokenizer(legal_text_tokenizer(white_space_remover(lowercase_standardizer(line_breaker_remover(punctuation_remover(url_remover(text)))))))"
   ]
  },
  {
   "cell_type": "code",
   "execution_count": 79,
   "metadata": {},
   "outputs": [
    {
     "data": {
      "text/plain": [
       "'khoản chi hội_thảo trong nước chi các hoạt_động mang tính_chất nghiên_cứu khoa_học thuộc chương_trình . nội_dung và mức chi thực_hiện theo quy_định tại Điều_2 Điều_3 Điều_4 và Điều_6 thông_tư số 03/2023/ttbtc ngày 10 tháng 01 năm 2023 của Bộ_Tài_chính quy_định lập dự_toán quản_lý sử_dụng và quyết_toán kinh_phí ngân_sách nhà_nước thực_hiện nhiệm_vụ khoa_học và công_nghệ sau đây viết tắt là thông_tư số 03/2023/tt'"
      ]
     },
     "execution_count": 79,
     "metadata": {},
     "output_type": "execute_result"
    }
   ],
   "source": [
    "test = 'khoản chi_hội_thảo trong nước chi các hoạt_động mang tính_chất nghiên_cứu khoa_học thuộc chương_trình . nội_dung và mức chi thực_hiện theo quy_định tại Điều_2 Điều_3_Điều_4 và Điều_6 thông_tư số 03/2023/ttbtc ngày 10 tháng 01 năm 2023 của Bộ_Tài_chính quy_định lập dự_toán quản_lý sử_dụng và quyết_toán kinh_phí ngân_sách nhà_nước thực_hiện nhiệm_vụ khoa_học và công_nghệ sau đây viết tắt là thông_tư số 03/2023/tt'\n",
    "def handle_rules(text: str):\n",
    "        \"\"\"Handle rules based text processing with specific formatting.\n",
    "        \n",
    "        Args:\n",
    "            text: Input text containing rules\n",
    "            \n",
    "        Returns:\n",
    "            Tuple of processed text parts or original text if no rules apply\n",
    "        \"\"\"\n",
    "        numbers = [str(i) for i in range(1, 1000)]\n",
    "        rules = ['Khoản', 'Điều', 'Điểm', 'Chương', 'Cấp', 'Hạng', 'Mục']\n",
    "        words = text.split(\"_\")\n",
    "        \n",
    "        if len(words) == 4 and any(rule in text for rule in rules):\n",
    "            return f\"{words[0]}_{words[1]}\", f\"{words[-2]}_{words[-1]}\"\n",
    "        \n",
    "        elif len(words) == 6 and any(rule in text for rule in rules):\n",
    "            return f\"{words[0]}_{words[1]}\", f\"{words[2]}_{words[3]}\", f\"{words[-2]}_{words[-1]}\"\n",
    "        \n",
    "        elif len(words) > 2 and words[-2] in rules and words[-1] in numbers:\n",
    "            return (f\"{words[-2]}_{words[-1]}\",\n",
    "                f\"{words[:-2]}\",)\n",
    "        else:\n",
    "            return text\n",
    "text_test = []\n",
    "for i in test.split(\" \"):\n",
    "    i = handle_rules(i)\n",
    "    if isinstance(i, str):\n",
    "        text_test.append(i)\n",
    "    elif isinstance(i, tuple):\n",
    "        text_test.extend([j for j in i])\n",
    "final_text = []\n",
    "for i in text_test:\n",
    "    if i not in STOP_WORDS and i not in LEGAL_DICT and i not in DUTIES and i not in SPECIAL_TERMS:\n",
    "        if len(i.split(\"_\")) == 3:\n",
    "            before, after = i.split(\"_\")[0] ,\"_\".join(i.split(\"_\")[1:])\n",
    "            final_text.append(before)\n",
    "            final_text.append(after)\n",
    "        else:\n",
    "            final_text.append(i)\n",
    "    else:\n",
    "        final_text.append(i)\n",
    "\n",
    "\" \".join(final_text)"
   ]
  },
  {
   "cell_type": "code",
   "execution_count": 61,
   "metadata": {},
   "outputs": [
    {
     "name": "stdout",
     "output_type": "stream",
     "text": [
      "chi hội_thảo\n"
     ]
    }
   ],
   "source": [
    "from src.preprocessor.vocab.stopwords import STOP_WORDS\n",
    "from src.preprocessor.vocab.legal_dict import LEGAL_DICT\n",
    "from src.preprocessor.vocab.duties_dict import DUTIES\n",
    "from src.preprocessor.vocab.special_terms import SPECIAL_TERMS\n",
    "from src.preprocessor.vocab.numeral_currency import CURRENCY\n",
    "\n",
    "STOP_WORDS = list(STOP_WORDS)\n",
    "LEGAL_DICT = list(LEGAL_DICT.values())\n",
    "DUTIES = list(DUTIES.values())\n",
    "SPECIAL_TERMS = list(SPECIAL_TERMS.values())\n",
    "for i in tesss:\n",
    "    if i not in STOP_WORDS and i not in LEGAL_DICT and i not in DUTIES and i not in SPECIAL_TERMS:\n",
    "        if len(i.split(\"_\")) == 3:\n",
    "            before, after = i.split(\"_\")[0] ,\"_\".join(i.split(\"_\")[1:])\n",
    "            "
   ]
  },
  {
   "cell_type": "code",
   "execution_count": 2,
   "metadata": {},
   "outputs": [],
   "source": [
    "queries = read_pickle(\"./data/processed/queries.pkl\")\n",
    "query = \"Tiêu chuẩn về đạo đức nghề nghiệp giáo viên mầm non theo Thông tư 08/2023/TT-BGDĐT ra sao?\"\n",
    "corpus = read_pickle(\"./data/processed/corpus.pkl\")\n",
    "corpusv2 = [j for i, j in corpus.items()]\n",
    "bm25 = BM25sRetrieval(query)"
   ]
  },
  {
   "cell_type": "code",
   "execution_count": 3,
   "metadata": {},
   "outputs": [
    {
     "data": {
      "application/vnd.jupyter.widget-view+json": {
       "model_id": "0b8dbff49ab34bf898dfa60f5dbbc095",
       "version_major": 2,
       "version_minor": 0
      },
      "text/plain": [
       "Split strings:   0%|          | 0/261772 [00:00<?, ?it/s]"
      ]
     },
     "metadata": {},
     "output_type": "display_data"
    },
    {
     "data": {
      "application/vnd.jupyter.widget-view+json": {
       "model_id": "90e60be338de42a6affa37dee20fef4d",
       "version_major": 2,
       "version_minor": 0
      },
      "text/plain": [
       "BM25S Count Tokens:   0%|          | 0/261772 [00:00<?, ?it/s]"
      ]
     },
     "metadata": {},
     "output_type": "display_data"
    },
    {
     "data": {
      "application/vnd.jupyter.widget-view+json": {
       "model_id": "1a570d7ceb7f4f0d9140f30d00d2250f",
       "version_major": 2,
       "version_minor": 0
      },
      "text/plain": [
       "BM25S Compute Scores:   0%|          | 0/261772 [00:00<?, ?it/s]"
      ]
     },
     "metadata": {},
     "output_type": "display_data"
    },
    {
     "data": {
      "application/vnd.jupyter.widget-view+json": {
       "model_id": "3a2b2cda2be64d60a09656cc727f5774",
       "version_major": 2,
       "version_minor": 0
      },
      "text/plain": [
       "Split strings:   0%|          | 0/1 [00:00<?, ?it/s]"
      ]
     },
     "metadata": {},
     "output_type": "display_data"
    },
    {
     "data": {
      "application/vnd.jupyter.widget-view+json": {
       "model_id": "158b4d144b8a417e98defab988b7dc16",
       "version_major": 2,
       "version_minor": 0
      },
      "text/plain": [
       "BM25S Retrieve:   0%|          | 0/1 [00:00<?, ?it/s]"
      ]
     },
     "metadata": {},
     "output_type": "display_data"
    },
    {
     "name": "stdout",
     "output_type": "stream",
     "text": [
      "Đây là doc_tokens: Khoản đầu_tư mua trái_phiếu quy_định Khoản_6 Điều_1 Nghị_định 65/2022/NĐCP Khoản_1 Điều_3 Nghị_định 08/2023/NĐCP 05 3 2023 Chính_phủ sửa_đổi bổ_sung ngưng hiệu_lực thi_hành Nghị_định quy_định chào_bán giao_dịch trái_phiếu doanh_nghiệp riêng_lẻ thị_trường chào_bán trái_phiếu doanh_nghiệp thị_trường quốc_tế gọi tắt Nghị_định 08/2023/NĐ .\n",
      "Đây là doc_tokens: Khoản quyết_liệt đồng_bộ hiệu_quả nhiệm_vụ giải_pháp giao nghị_quyết phiên họp Chính_phủ thường_kỳ Chỉ_thị 08/CTTTg 23 3 2023 Công_điện 123/CĐTTg 10 3 2023 Thủ_tướng_Chính_phủ văn_bản chỉ_đạo Lãnh_đạo Chính_phủ đôn_đốc phân_bổ giải_ngân vốn_đầu_tư công 2023 coi giải_ngân kế_hoạch vốn_đầu_tư 2023 nhiệm_vụ chính_trị trách_nhiệm toàn_diện Chính_phủ Thủ_tướng_Chính_phủ chậm giải_ngân phấn_đấu tỷ_lệ giải_ngân 2023 95 kế_hoạch giao .\n",
      "Đây là doc_tokens: Khoản Chi hội_thảo chi hoạt_động tính_chất nghiên_cứu khoa_học Chương_trình . Nội_dung chi quy_định Điều_2 Điều_3 Điều_4 Điều_6 Thông_tư 03/2023/TTBTC 10 01 2023 Bộ_Tài_chính quy_định lập dự_toán quản_lý quyết_toán kinh_phí ngân_sách nhà_nước nhiệm_vụ khoa_học công_nghệ viết tắt Thông_tư 03/2023/TT Thông_tư 02/2023/TTBKHCN 08 5 2023 Bộ_trưởng Bộ_Khoa_học_và_Công_nghệ hướng_dẫn nội_dung chuyên_môn phục_vụ công_tác xây_dựng dự_toán nhiệm_vụ khoa_học công_nghệ ngân_sách nhà_nước viết tắt Thông_tư 02/2023/TT .\n",
      "Đây là doc_tokens: Khoản cơ_quan địa_phương quyết_liệt triển_khai Nghị_quyết Chính_phủ Công_điện 71/CĐTTg 23 02 2023 Chỉ_thị 08/CTTTg 23 3 2023 Thủ_tướng_Chính_phủ nhiệm_vụ giải_pháp trọng_tâm đẩy_mạnh phân_bổ giải_ngân vốn_đầu_tư công 03 chương_trình mục_tiêu quốc_gia 2023 Chương_trình phục_hồi phát_triển kinh_tế xã_hội .\n",
      "Đây là doc_tokens: Mục tình_hình phân_bổ giải_ngân vốn_đầu_tư công . Chính_phủ cơ_bản thống_nhất Báo_cáo 7312/BCBKHĐT 06 9 2023 Bộ_Kế_hoạch_và_Đầu_tư cơ_quan địa_phương xác_định đẩy_mạnh giải_ngân vốn_đầu_tư công nhiệm_vụ chính_trị trọng_tâm 2023 ý_thức nhiệm_vụ chính_trị đứng đầu cơ_quan tập_trung_thực_hiện nhiệm_vụ giải_pháp đề Nghị_quyết 01/NQCP Nghị_quyết phiên họp thường_kỳ Chính_phủ Công_điện 123/CĐTTg 10 3 2023 749/CĐTTg 18 8 2023 Chỉ_thị 08/CTTTg 23 3 2023 phấn_đấu tỷ_lệ giải_ngân 2023 95 kế_hoạch Thủ_tướng_Chính_phủ giao . rà_soát cơ_chế chính_sách quy_định pháp_luật sửa_đổi bổ_sung thúc_đẩy tiến_độ giải_ngân vốn_đầu_tư công .\n"
     ]
    }
   ],
   "source": [
    "a, b = bm25.retrieval_module(corpusv2)"
   ]
  }
 ],
 "metadata": {
  "kernelspec": {
   "display_name": "Python 3",
   "language": "python",
   "name": "python3"
  },
  "language_info": {
   "codemirror_mode": {
    "name": "ipython",
    "version": 3
   },
   "file_extension": ".py",
   "mimetype": "text/x-python",
   "name": "python",
   "nbconvert_exporter": "python",
   "pygments_lexer": "ipython3",
   "version": "3.10.15"
  }
 },
 "nbformat": 4,
 "nbformat_minor": 2
}
