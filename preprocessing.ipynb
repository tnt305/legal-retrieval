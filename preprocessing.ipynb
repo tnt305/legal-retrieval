{
 "cells": [
  {
   "cell_type": "code",
   "execution_count": 1,
   "metadata": {},
   "outputs": [],
   "source": [
    "import pandas as pd\n",
    "import numpy as np\n",
    "\n",
    "train = pd.read_csv('./data/train.csv')"
   ]
  },
  {
   "cell_type": "code",
   "execution_count": 5,
   "metadata": {},
   "outputs": [
    {
     "data": {
      "text/html": [
       "<div>\n",
       "<style scoped>\n",
       "    .dataframe tbody tr th:only-of-type {\n",
       "        vertical-align: middle;\n",
       "    }\n",
       "\n",
       "    .dataframe tbody tr th {\n",
       "        vertical-align: top;\n",
       "    }\n",
       "\n",
       "    .dataframe thead th {\n",
       "        text-align: right;\n",
       "    }\n",
       "</style>\n",
       "<table border=\"1\" class=\"dataframe\">\n",
       "  <thead>\n",
       "    <tr style=\"text-align: right;\">\n",
       "      <th></th>\n",
       "      <th>question</th>\n",
       "      <th>context</th>\n",
       "      <th>cid</th>\n",
       "      <th>qid</th>\n",
       "    </tr>\n",
       "  </thead>\n",
       "  <tbody>\n",
       "    <tr>\n",
       "      <th>0</th>\n",
       "      <td>Người học ngành quản lý khai thác công trình t...</td>\n",
       "      <td>['Khả năng học tập, nâng cao trình độ\\n- Khối ...</td>\n",
       "      <td>[62492]</td>\n",
       "      <td>161615</td>\n",
       "    </tr>\n",
       "    <tr>\n",
       "      <th>1</th>\n",
       "      <td>Nội dung lồng ghép vấn đề bình đẳng giới trong...</td>\n",
       "      <td>['Nội dung lồng ghép vấn đề bình đẳng giới tro...</td>\n",
       "      <td>[151154]</td>\n",
       "      <td>80037</td>\n",
       "    </tr>\n",
       "    <tr>\n",
       "      <th>2</th>\n",
       "      <td>Sản phẩm phần mềm có được hưởng ưu đãi về thời...</td>\n",
       "      <td>['\"Điều 20. Ưu đãi về thời gian miễn thuế, giả...</td>\n",
       "      <td>[75071]</td>\n",
       "      <td>124074</td>\n",
       "    </tr>\n",
       "    <tr>\n",
       "      <th>3</th>\n",
       "      <td>Điều kiện để giáo viên trong cơ sở giáo dục mầ...</td>\n",
       "      <td>['Điều kiện được hưởng\\nCán bộ quản lý, giáo v...</td>\n",
       "      <td>[225897]</td>\n",
       "      <td>146841</td>\n",
       "    </tr>\n",
       "    <tr>\n",
       "      <th>4</th>\n",
       "      <td>Nguyên tắc áp dụng phụ cấp ưu đãi nghề y tế th...</td>\n",
       "      <td>['Nguyên tắc áp dụng\\n1. Trường hợp công chức,...</td>\n",
       "      <td>[68365]</td>\n",
       "      <td>6176</td>\n",
       "    </tr>\n",
       "    <tr>\n",
       "      <th>...</th>\n",
       "      <td>...</td>\n",
       "      <td>...</td>\n",
       "      <td>...</td>\n",
       "      <td>...</td>\n",
       "    </tr>\n",
       "    <tr>\n",
       "      <th>119451</th>\n",
       "      <td>Thư ký Tòa án làm việc 5 năm có được bổ nhiệm ...</td>\n",
       "      <td>['\"Điều 93. Thẩm tra viên\\n1. Thẩm tra viên là...</td>\n",
       "      <td>[51236]</td>\n",
       "      <td>47570</td>\n",
       "    </tr>\n",
       "    <tr>\n",
       "      <th>119452</th>\n",
       "      <td>Nội dung đơn thuốc có quy định hay tùy vào tìn...</td>\n",
       "      <td>['\"1. Ghi đủ, rõ ràng và chính xác các mục in ...</td>\n",
       "      <td>[47787]</td>\n",
       "      <td>8661</td>\n",
       "    </tr>\n",
       "    <tr>\n",
       "      <th>119453</th>\n",
       "      <td>Việc khai trương hoạt động đơn vị sự nghiệp củ...</td>\n",
       "      <td>['Khai trương hoạt động\\n....\\n2. Tổ chức tài ...</td>\n",
       "      <td>[176971]</td>\n",
       "      <td>103122</td>\n",
       "    </tr>\n",
       "    <tr>\n",
       "      <th>119454</th>\n",
       "      <td>Chủ đầu tư không công khai báo cáo đánh giá tá...</td>\n",
       "      <td>['Vi phạm các quy định về đánh giá tác động mô...</td>\n",
       "      <td>[182633]</td>\n",
       "      <td>157644</td>\n",
       "    </tr>\n",
       "    <tr>\n",
       "      <th>119455</th>\n",
       "      <td>Dự án nhận viện trợ phi chính phủ của cơ quan ...</td>\n",
       "      <td>['Đối tượng đăng ký thuế\\n...\\n2. Người nộp th...</td>\n",
       "      <td>[75219]</td>\n",
       "      <td>148657</td>\n",
       "    </tr>\n",
       "  </tbody>\n",
       "</table>\n",
       "<p>119456 rows × 4 columns</p>\n",
       "</div>"
      ],
      "text/plain": [
       "                                                 question  \\\n",
       "0       Người học ngành quản lý khai thác công trình t...   \n",
       "1       Nội dung lồng ghép vấn đề bình đẳng giới trong...   \n",
       "2       Sản phẩm phần mềm có được hưởng ưu đãi về thời...   \n",
       "3       Điều kiện để giáo viên trong cơ sở giáo dục mầ...   \n",
       "4       Nguyên tắc áp dụng phụ cấp ưu đãi nghề y tế th...   \n",
       "...                                                   ...   \n",
       "119451  Thư ký Tòa án làm việc 5 năm có được bổ nhiệm ...   \n",
       "119452  Nội dung đơn thuốc có quy định hay tùy vào tìn...   \n",
       "119453  Việc khai trương hoạt động đơn vị sự nghiệp củ...   \n",
       "119454  Chủ đầu tư không công khai báo cáo đánh giá tá...   \n",
       "119455  Dự án nhận viện trợ phi chính phủ của cơ quan ...   \n",
       "\n",
       "                                                  context       cid     qid  \n",
       "0       ['Khả năng học tập, nâng cao trình độ\\n- Khối ...   [62492]  161615  \n",
       "1       ['Nội dung lồng ghép vấn đề bình đẳng giới tro...  [151154]   80037  \n",
       "2       ['\"Điều 20. Ưu đãi về thời gian miễn thuế, giả...   [75071]  124074  \n",
       "3       ['Điều kiện được hưởng\\nCán bộ quản lý, giáo v...  [225897]  146841  \n",
       "4       ['Nguyên tắc áp dụng\\n1. Trường hợp công chức,...   [68365]    6176  \n",
       "...                                                   ...       ...     ...  \n",
       "119451  ['\"Điều 93. Thẩm tra viên\\n1. Thẩm tra viên là...   [51236]   47570  \n",
       "119452  ['\"1. Ghi đủ, rõ ràng và chính xác các mục in ...   [47787]    8661  \n",
       "119453  ['Khai trương hoạt động\\n....\\n2. Tổ chức tài ...  [176971]  103122  \n",
       "119454  ['Vi phạm các quy định về đánh giá tác động mô...  [182633]  157644  \n",
       "119455  ['Đối tượng đăng ký thuế\\n...\\n2. Người nộp th...   [75219]  148657  \n",
       "\n",
       "[119456 rows x 4 columns]"
      ]
     },
     "execution_count": 5,
     "metadata": {},
     "output_type": "execute_result"
    }
   ],
   "source": [
    "train"
   ]
  },
  {
   "cell_type": "code",
   "execution_count": 35,
   "metadata": {},
   "outputs": [
    {
     "data": {
      "text/plain": [
       "'Nội dung lồng ghép vấn đề bình đẳng giới trong xây dựng văn bản quy phạm pháp luật\\\\nTrong phạm vi điều chỉnh của văn bản quy phạm pháp luật:\\\\n1. Xác định nội dung liên quan đến vấn đề bình đẳng giới hoặc vấn đề bất bình đẳng giới, phân biệt đối xử về giới.\\\\n2. Quy định các biện pháp cần thiết để thực hiện bình đẳng giới hoặc để giải quyết vấn đề bất bình đẳng giới, phân biệt đối xử về giới; dự báo tác động của các quy định đó đối với nam và nữ sau khi được ban hành.\\\\n3. Xác định nguồn nhân lực, tài chính cần thiết để triển khai các biện pháp thực hiện bình đẳng giới hoặc để giải quyết vấn đề bất bình đẳng giới, phân biệt đối xử về giới'"
      ]
     },
     "execution_count": 35,
     "metadata": {},
     "output_type": "execute_result"
    }
   ],
   "source": [
    "from pyvi.ViTokenizer import tokenize\n",
    "import re\n",
    "txt = train['context'][1].strip('[]')\n",
    "txt = txt.strip('\\'\"').rstrip('/.')\n",
    "txt"
   ]
  },
  {
   "cell_type": "code",
   "execution_count": 49,
   "metadata": {},
   "outputs": [
    {
     "data": {
      "text/plain": [
       "'Bộ ngoại_giao'"
      ]
     },
     "execution_count": 49,
     "metadata": {},
     "output_type": "execute_result"
    }
   ],
   "source": [
    "tokenize(\"Bộ ngoại giao\")"
   ]
  },
  {
   "cell_type": "code",
   "execution_count": 45,
   "metadata": {},
   "outputs": [
    {
     "data": {
      "text/plain": [
       "'Điều_1d đây là thể hiện cái này không được'"
      ]
     },
     "execution_count": 45,
     "metadata": {},
     "output_type": "execute_result"
    }
   ],
   "source": [
    "test = 'Điều 1d đây là thể hiện cái này không được'\n",
    "re.sub(r\"(\\bĐiều)\\s+(\\d+)\", r\"\\1_\\2\", test)"
   ]
  },
  {
   "cell_type": "code",
   "execution_count": 37,
   "metadata": {},
   "outputs": [
    {
     "ename": "NameError",
     "evalue": "name 'test' is not defined",
     "output_type": "error",
     "traceback": [
      "\u001b[0;31m---------------------------------------------------------------------------\u001b[0m",
      "\u001b[0;31mNameError\u001b[0m                                 Traceback (most recent call last)",
      "Cell \u001b[0;32mIn[37], line 1\u001b[0m\n\u001b[0;32m----> 1\u001b[0m re\u001b[38;5;241m.\u001b[39msub(\u001b[38;5;124mr\u001b[39m\u001b[38;5;124m\"\u001b[39m\u001b[38;5;124m(Điều\u001b[39m\u001b[38;5;124m\\\u001b[39m\u001b[38;5;124ms)(\u001b[39m\u001b[38;5;124m\\\u001b[39m\u001b[38;5;124md+)\u001b[39m\u001b[38;5;124m\"\u001b[39m, \u001b[38;5;124mr\u001b[39m\u001b[38;5;124m\"\u001b[39m\u001b[38;5;124m\\\u001b[39m\u001b[38;5;124m1_\u001b[39m\u001b[38;5;124m\\\u001b[39m\u001b[38;5;124m2\u001b[39m\u001b[38;5;124m\"\u001b[39m, \u001b[43mtest\u001b[49m)\n",
      "\u001b[0;31mNameError\u001b[0m: name 'test' is not defined"
     ]
    }
   ],
   "source": [
    "re.sub(r\"(Điều\\s)(\\d+)\", r\"\\1_\\2\", test)"
   ]
  },
  {
   "cell_type": "code",
   "execution_count": 19,
   "metadata": {},
   "outputs": [
    {
     "name": "stdout",
     "output_type": "stream",
     "text": [
      "Đây là một câu với khoảng trắng dư thừa.\n"
     ]
    }
   ],
   "source": [
    "import re\n",
    "def line_breaker_remover(paragraph):\n",
    "    para = re.sub(r\"\\n+\" , \"\",paragraph)\n",
    "    para = re.sub(r\"\\.\\.\\.\", \"\", para)\n",
    "    para = para.replace(\"  \", \" \")\n",
    "    return para\n",
    "\n",
    "def remove_extra_spaces(text):\n",
    "    # Thay thế nhiều khoảng trắng liên tiếp thành một khoảng trắng đơn\n",
    "    return re.sub(r'\\s{3,}', ' ', text).strip()  # Loại bỏ khoảng trắng thừa ở đầu và cuối\n",
    "text = \"Đây   là   một   câu    với   khoảng    trắng   dư thừa.\"\n",
    "cleaned_text = remove_extra_spaces(text)\n",
    "print(cleaned_text)"
   ]
  },
  {
   "cell_type": "code",
   "execution_count": null,
   "metadata": {},
   "outputs": [],
   "source": [
    "from pyvi.ViTokenizer import tokenize\n",
    "\n",
    "class TextPreprocessing:\n",
    "    def __init__(self):\n",
    "        pass\n",
    "\n",
    "    def preprocess(self,\n",
    "                   paragraph,\n",
    "                   punctuation_remover,\n",
    "                   line_breaker_remover,\n",
    "                   lowercase_standardizer,\n",
    "                   white_space_remover,\n",
    "                   text_tokenizer,\n",
    "                   stop_word_remover,\n",
    "                   law_text_recognizer,\n",
    "                   ):\n",
    "        return \n",
    "    def _punctuation_remover(self, paragraph):\n",
    "        for punc in string.punctuation:\n",
    "            para = paragraph.replace(punc, \"\")\n",
    "            para = re.sub(r\"\\s+\", \"\", para)\n",
    "        return para\n",
    "        \n",
    "    \n",
    "    def _lowercase_standardizer(self,paragraph):\n",
    "        pass\n",
    "    \n",
    "    def _white_space_remover(self, paragraph):\n",
    "        pass\n",
    "    \n",
    "    def _text_tokenizer(self, paragraph):\n",
    "        pass\n",
    "    \n",
    "    def law_text_recognizer(self, paragraph):\n",
    "        pass\n",
    "    \n",
    "    def _stopword_remover(self,paragraph):\n",
    "        pass\n",
    "    \n",
    "    "
   ]
  }
 ],
 "metadata": {
  "kernelspec": {
   "display_name": "Python 3",
   "language": "python",
   "name": "python3"
  },
  "language_info": {
   "codemirror_mode": {
    "name": "ipython",
    "version": 3
   },
   "file_extension": ".py",
   "mimetype": "text/x-python",
   "name": "python",
   "nbconvert_exporter": "python",
   "pygments_lexer": "ipython3",
   "version": "3.10.15"
  }
 },
 "nbformat": 4,
 "nbformat_minor": 2
}
