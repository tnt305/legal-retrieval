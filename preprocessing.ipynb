{
 "cells": [
  {
   "cell_type": "code",
   "execution_count": 1,
   "metadata": {},
   "outputs": [],
   "source": [
    "import pandas as pd\n",
    "import numpy as np\n",
    "\n",
    "train = pd.read_csv('./data/train.csv')"
   ]
  },
  {
   "cell_type": "code",
   "execution_count": 1,
   "metadata": {},
   "outputs": [
    {
     "data": {
      "text/plain": [
       "{'Bộ Giáo dục và Đào tạo': 'Bộ_Giáo_dục_và_Đào_tạo',\n",
       " 'HĐND Tỉnh': 'HĐND_Tỉnh',\n",
       " 'Phó Chủ tịch Hội đồng nhân dân': 'Phó_Chủ_tịch_Hội_đồng_nhân_dân',\n",
       " 'Cục Phòng, chống ma túy và tội phạm': 'Cục_Phòng,_chống_ma_túy_và_tội_phạm',\n",
       " 'Chủ tịch HĐND Tỉnh': 'Chủ_tịch_HĐND_Tỉnh',\n",
       " 'Chủ tịch HĐND Thành phố': 'Chủ_tịch_HĐND_Thành_phố',\n",
       " 'Tổng lãnh sự quán': 'Tổng_lãnh_sự_quán',\n",
       " 'Bộ Nội vụ': 'Bộ_Nội_vụ',\n",
       " 'Ban Nội chính Trung ương': 'Ban_Nội_chính_Trung_ương',\n",
       " 'Ủy ban nhân dân': 'Ủy_ban_nhân_dân',\n",
       " 'Bộ Công An': 'Bộ_Công_An',\n",
       " 'Ban Hậu cầu': 'Ban_Hậu_cầu',\n",
       " 'Đội Tuần tra biên phòng': 'Đội_Tuần_tra_biên_phòng',\n",
       " 'Ủy ban Xã hội': 'Ủy_ban_Xã_hội',\n",
       " 'Ban Tổ chức Trung ương': 'Ban_Tổ_chức_Trung_ương',\n",
       " 'Đảng ủy Công an Trung ương': 'Đảng_ủy_Công_an_Trung_ương',\n",
       " 'văn phòng trực thuộc': 'văn_phòng_trực_thuộc',\n",
       " 'Chủ tịch Quốc hội': 'Chủ_tịch_Quốc_hội',\n",
       " 'Bộ Xây dựng': 'Bộ_Xây_dựng',\n",
       " 'Bộ trưởng Bộ Quốc phòng': 'Bộ_trưởng_Bộ_Quốc_phòng',\n",
       " 'Trạm Biên phòng': 'Trạm_Biên_phòng',\n",
       " 'Phòng Hậu cần': 'Phòng_Hậu_cần',\n",
       " 'Chủ tịch HĐND Huyện': 'Chủ_tịch_HĐND_Huyện',\n",
       " 'Bộ chỉ huy Bộ đội Biên phòng': 'Bộ_chỉ_huy_Bộ_đội_Biên_phòng',\n",
       " 'HĐND Xã': 'HĐND_Xã',\n",
       " 'Cục Chính trị': 'Cục_Chính_trị',\n",
       " 'Cục Cửa khẩu': 'Cục_Cửa_khẩu',\n",
       " 'Ban Hậu cần - Kỹ thuật': 'Ban_Hậu_cần__Kỹ_thuật',\n",
       " 'Ban Công tác đại biểu': 'Ban_Công_tác_đại_biểu',\n",
       " 'Đội Kiểm soát hành chính': 'Đội_Kiểm_soát_hành_chính',\n",
       " 'Phòng Kỹ thuật': 'Phòng_Kỹ_thuật',\n",
       " 'Đội Thủ tục': 'Đội_Thủ_tục',\n",
       " 'Ban Dân nguyện': 'Ban_Dân_nguyện',\n",
       " 'Ủy ban Văn hóa, Giáo dục': 'Ủy_ban_Văn_hóa,_Giáo_dục',\n",
       " 'Ban Tuyên giáo Trung ương': 'Ban_Tuyên_giáo_Trung_ương',\n",
       " 'Bộ Tài chính': 'Bộ_Tài_chính',\n",
       " 'Ban chỉ huy Biên phòng': 'Ban_chỉ_huy_Biên_phòng',\n",
       " 'Ủy ban Đối ngoại': 'Ủy_ban_Đối_ngoại',\n",
       " 'Đội Hành chính': 'Đội_Hành_chính',\n",
       " 'Bộ Văn hóa, Thể thao và Du lịch': 'Bộ_Văn_hóa,_Thể_thao_và_Du_lịch',\n",
       " 'Chủ tịch Hội đồng nhân dân': 'Chủ_tịch_Hội_đồng_nhân_dân',\n",
       " 'Mặt trận Tổ quốc': 'Mặt_trận_Tổ_quốc',\n",
       " 'HĐND Huyện': 'HĐND_Huyện',\n",
       " 'Bộ Y tếHĐND Thành phố': 'Bộ_Y_tếHĐND_Thành_phố',\n",
       " 'Viện Nghiên cứu lập pháp': 'Viện_Nghiên_cứu_lập_pháp',\n",
       " 'Phòng Đào tạo': 'Phòng_Đào_tạo',\n",
       " 'Ban Cán sự Đảng Ngoài nước': 'Ban_Cán_sự_Đảng_Ngoài_nước',\n",
       " 'Đảng ủy Khối các cơ quan Trung ương': 'Đảng_ủy_Khối_các_cơ_quan_Trung_ương',\n",
       " 'Chủ nhiệm Ủy ban của Quốc hội': 'Chủ_nhiệm_Ủy_ban_của_Quốc_hội',\n",
       " 'Hội đồng Dân tộc': 'Hội_đồng_Dân_tộc',\n",
       " 'Tổng lãnh sự': 'Tổng_lãnh_sự',\n",
       " 'Ban Tham mưu - Đào tạo': 'Ban_Tham_mưu__Đào_tạo',\n",
       " 'Bộ Ngoại giao': 'Bộ_Ngoại_giao',\n",
       " 'Ủy ban Thường vụ Quốc hội': 'Ủy_ban_Thường_vụ_Quốc_hội',\n",
       " 'Ủy ban Kinh tế': 'Ủy_ban_Kinh_tế',\n",
       " 'Ban Kinh tế Trung ương': 'Ban_Kinh_tế_Trung_ương',\n",
       " 'Phòng Chính trị': 'Phòng_Chính_trị',\n",
       " 'Phòng Phòng, chống ma túy và tội phạm': 'Phòng_Phòng,_chống_ma_túy_và_tội_phạm',\n",
       " 'Chủ tịch HĐND Xã': 'Chủ_tịch_HĐND_Xã',\n",
       " 'Ban Trinh sát': 'Ban_Trinh_sát',\n",
       " 'Bộ Nông nghiệp và Phát triển nông thôn': 'Bộ_Nông_nghiệp_và_Phát_triển_nông_thôn',\n",
       " 'Ủy ban Quốc phòng và An ninh': 'Ủy_ban_Quốc_phòng_và_An_ninh',\n",
       " 'Bộ Thông tin và Truyền thông': 'Bộ_Thông_tin_và_Truyền_thông',\n",
       " 'Đảng ủy Khối Doanh nghiệp Trung ương': 'Đảng_ủy_Khối_Doanh_nghiệp_Trung_ương',\n",
       " 'Phòng Trinh sát': 'Phòng_Trinh_sát',\n",
       " 'Hội đồng Lý luận Trung ương': 'Hội_đồng_Lý_luận_Trung_ương',\n",
       " 'Bộ Tài nguyên và Môi trường': 'Bộ_Tài_nguyên_và_Môi_trường',\n",
       " 'Kiểm toán Nhà nước': 'Kiểm_toán_Nhà_nước',\n",
       " 'Đội Trinh sát': 'Đội_Trinh_sát',\n",
       " 'Bộ Tư lệnh Bộ đội Biên phòng': 'Bộ_Tư_lệnh_Bộ_đội_Biên_phòng',\n",
       " 'Bộ Tham mưu': 'Bộ_Tham_mưu',\n",
       " 'Đội Tàu thuyền': 'Đội_Tàu_thuyền',\n",
       " 'Ủy ban Pháp luật': 'Ủy_ban_Pháp_luật',\n",
       " 'Hội đồng Bầu cử Quốc gia': 'Hội_đồng_Bầu_cử_Quốc_gia',\n",
       " 'Đội Vũ trang': 'Đội_Vũ_trang',\n",
       " 'Ban Đối ngoại Trung ương': 'Ban_Đối_ngoại_Trung_ương',\n",
       " 'Lãnh sự quán': 'Lãnh_sự_quán',\n",
       " 'Đội Tham mưu - Hành chính': 'Đội_Tham_mưu__Hành_chính',\n",
       " 'Bộ Công Thương': 'Bộ_Công_Thương',\n",
       " 'Bộ Tư pháp': 'Bộ_Tư_pháp',\n",
       " 'Ban Phòng, chống ma túy và tội phạm': 'Ban_Phòng,_chống_ma_túy_và_tội_phạm',\n",
       " 'Văn phòng Quốc hội': 'Văn_phòng_Quốc_hội',\n",
       " 'Đảng bộ các tỉnh, thành phố': 'Đảng_bộ_các_tỉnh,_thành_phố',\n",
       " 'Bộ Khoa học và Công nghệ': 'Bộ_Khoa_học_và_Công_nghệ',\n",
       " 'Ủy ban Tư pháp': 'Ủy_ban_Tư_pháp',\n",
       " 'Ủy ban Khoa học, Công nghệ và Môi trường': 'Ủy_ban_Khoa_học,_Công_nghệ_và_Môi_trường',\n",
       " 'Cục Hậu cần': 'Cục_Hậu_cần',\n",
       " 'Đội Vận động quần chúng': 'Đội_Vận_động_quần_chúng',\n",
       " 'Đội Phòng, chống ma túy và tội phạm': 'Đội_Phòng,_chống_ma_túy_và_tội_phạm',\n",
       " 'Bộ Giao thông Vận tải': 'Bộ_Giao_thông_Vận_tải',\n",
       " 'Văn phòng Trung ương Đảng': 'Văn_phòng_Trung_ương_Đảng',\n",
       " 'Ban Dân vận Trung ương': 'Ban_Dân_vận_Trung_ương',\n",
       " 'Phó Chủ tịch Quốc hội': 'Phó_Chủ_tịch_Quốc_hội',\n",
       " 'Quân ủy Trung ương': 'Quân_ủy_Trung_ương',\n",
       " 'Phòng Tham mưu': 'Phòng_Tham_mưu',\n",
       " 'Ban Tham mưu': 'Ban_Tham_mưu',\n",
       " 'Ủy ban Tài chính – Ngân sách': 'Ủy_ban_Tài_chính_–_Ngân_sách',\n",
       " 'Cục Trinh sát': 'Cục_Trinh_sát',\n",
       " 'Cơ quan đại diện': 'Cơ_quan_đại_diện',\n",
       " 'Bộ Lao động - Thương binh và Xã hội': 'Bộ_Lao_động__Thương_binh_và_Xã_hội',\n",
       " 'Bộ Kế hoạch và Đầu tư': 'Bộ_Kế_hoạch_và_Đầu_tư',\n",
       " 'Phó Chủ nhiệm Ủy ban của Quốc hội': 'Phó_Chủ_nhiệm_Ủy_ban_của_Quốc_hội',\n",
       " 'Cục Kỹ thuật': 'Cục_Kỹ_thuật',\n",
       " 'Ban Chính trị': 'Ban_Chính_trị'}"
      ]
     },
     "execution_count": 1,
     "metadata": {},
     "output_type": "execute_result"
    }
   ],
   "source": [
    "from src.preprocessor.vocab.duties_dict import DUTIES\n",
    "DUTIES"
   ]
  },
  {
   "cell_type": "code",
   "execution_count": 5,
   "metadata": {},
   "outputs": [
    {
     "data": {
      "text/html": [
       "<div>\n",
       "<style scoped>\n",
       "    .dataframe tbody tr th:only-of-type {\n",
       "        vertical-align: middle;\n",
       "    }\n",
       "\n",
       "    .dataframe tbody tr th {\n",
       "        vertical-align: top;\n",
       "    }\n",
       "\n",
       "    .dataframe thead th {\n",
       "        text-align: right;\n",
       "    }\n",
       "</style>\n",
       "<table border=\"1\" class=\"dataframe\">\n",
       "  <thead>\n",
       "    <tr style=\"text-align: right;\">\n",
       "      <th></th>\n",
       "      <th>question</th>\n",
       "      <th>context</th>\n",
       "      <th>cid</th>\n",
       "      <th>qid</th>\n",
       "    </tr>\n",
       "  </thead>\n",
       "  <tbody>\n",
       "    <tr>\n",
       "      <th>0</th>\n",
       "      <td>Người học ngành quản lý khai thác công trình t...</td>\n",
       "      <td>['Khả năng học tập, nâng cao trình độ\\n- Khối ...</td>\n",
       "      <td>[62492]</td>\n",
       "      <td>161615</td>\n",
       "    </tr>\n",
       "    <tr>\n",
       "      <th>1</th>\n",
       "      <td>Nội dung lồng ghép vấn đề bình đẳng giới trong...</td>\n",
       "      <td>['Nội dung lồng ghép vấn đề bình đẳng giới tro...</td>\n",
       "      <td>[151154]</td>\n",
       "      <td>80037</td>\n",
       "    </tr>\n",
       "    <tr>\n",
       "      <th>2</th>\n",
       "      <td>Sản phẩm phần mềm có được hưởng ưu đãi về thời...</td>\n",
       "      <td>['\"Điều 20. Ưu đãi về thời gian miễn thuế, giả...</td>\n",
       "      <td>[75071]</td>\n",
       "      <td>124074</td>\n",
       "    </tr>\n",
       "    <tr>\n",
       "      <th>3</th>\n",
       "      <td>Điều kiện để giáo viên trong cơ sở giáo dục mầ...</td>\n",
       "      <td>['Điều kiện được hưởng\\nCán bộ quản lý, giáo v...</td>\n",
       "      <td>[225897]</td>\n",
       "      <td>146841</td>\n",
       "    </tr>\n",
       "    <tr>\n",
       "      <th>4</th>\n",
       "      <td>Nguyên tắc áp dụng phụ cấp ưu đãi nghề y tế th...</td>\n",
       "      <td>['Nguyên tắc áp dụng\\n1. Trường hợp công chức,...</td>\n",
       "      <td>[68365]</td>\n",
       "      <td>6176</td>\n",
       "    </tr>\n",
       "    <tr>\n",
       "      <th>...</th>\n",
       "      <td>...</td>\n",
       "      <td>...</td>\n",
       "      <td>...</td>\n",
       "      <td>...</td>\n",
       "    </tr>\n",
       "    <tr>\n",
       "      <th>119451</th>\n",
       "      <td>Thư ký Tòa án làm việc 5 năm có được bổ nhiệm ...</td>\n",
       "      <td>['\"Điều 93. Thẩm tra viên\\n1. Thẩm tra viên là...</td>\n",
       "      <td>[51236]</td>\n",
       "      <td>47570</td>\n",
       "    </tr>\n",
       "    <tr>\n",
       "      <th>119452</th>\n",
       "      <td>Nội dung đơn thuốc có quy định hay tùy vào tìn...</td>\n",
       "      <td>['\"1. Ghi đủ, rõ ràng và chính xác các mục in ...</td>\n",
       "      <td>[47787]</td>\n",
       "      <td>8661</td>\n",
       "    </tr>\n",
       "    <tr>\n",
       "      <th>119453</th>\n",
       "      <td>Việc khai trương hoạt động đơn vị sự nghiệp củ...</td>\n",
       "      <td>['Khai trương hoạt động\\n....\\n2. Tổ chức tài ...</td>\n",
       "      <td>[176971]</td>\n",
       "      <td>103122</td>\n",
       "    </tr>\n",
       "    <tr>\n",
       "      <th>119454</th>\n",
       "      <td>Chủ đầu tư không công khai báo cáo đánh giá tá...</td>\n",
       "      <td>['Vi phạm các quy định về đánh giá tác động mô...</td>\n",
       "      <td>[182633]</td>\n",
       "      <td>157644</td>\n",
       "    </tr>\n",
       "    <tr>\n",
       "      <th>119455</th>\n",
       "      <td>Dự án nhận viện trợ phi chính phủ của cơ quan ...</td>\n",
       "      <td>['Đối tượng đăng ký thuế\\n...\\n2. Người nộp th...</td>\n",
       "      <td>[75219]</td>\n",
       "      <td>148657</td>\n",
       "    </tr>\n",
       "  </tbody>\n",
       "</table>\n",
       "<p>119456 rows × 4 columns</p>\n",
       "</div>"
      ],
      "text/plain": [
       "                                                 question  \\\n",
       "0       Người học ngành quản lý khai thác công trình t...   \n",
       "1       Nội dung lồng ghép vấn đề bình đẳng giới trong...   \n",
       "2       Sản phẩm phần mềm có được hưởng ưu đãi về thời...   \n",
       "3       Điều kiện để giáo viên trong cơ sở giáo dục mầ...   \n",
       "4       Nguyên tắc áp dụng phụ cấp ưu đãi nghề y tế th...   \n",
       "...                                                   ...   \n",
       "119451  Thư ký Tòa án làm việc 5 năm có được bổ nhiệm ...   \n",
       "119452  Nội dung đơn thuốc có quy định hay tùy vào tìn...   \n",
       "119453  Việc khai trương hoạt động đơn vị sự nghiệp củ...   \n",
       "119454  Chủ đầu tư không công khai báo cáo đánh giá tá...   \n",
       "119455  Dự án nhận viện trợ phi chính phủ của cơ quan ...   \n",
       "\n",
       "                                                  context       cid     qid  \n",
       "0       ['Khả năng học tập, nâng cao trình độ\\n- Khối ...   [62492]  161615  \n",
       "1       ['Nội dung lồng ghép vấn đề bình đẳng giới tro...  [151154]   80037  \n",
       "2       ['\"Điều 20. Ưu đãi về thời gian miễn thuế, giả...   [75071]  124074  \n",
       "3       ['Điều kiện được hưởng\\nCán bộ quản lý, giáo v...  [225897]  146841  \n",
       "4       ['Nguyên tắc áp dụng\\n1. Trường hợp công chức,...   [68365]    6176  \n",
       "...                                                   ...       ...     ...  \n",
       "119451  ['\"Điều 93. Thẩm tra viên\\n1. Thẩm tra viên là...   [51236]   47570  \n",
       "119452  ['\"1. Ghi đủ, rõ ràng và chính xác các mục in ...   [47787]    8661  \n",
       "119453  ['Khai trương hoạt động\\n....\\n2. Tổ chức tài ...  [176971]  103122  \n",
       "119454  ['Vi phạm các quy định về đánh giá tác động mô...  [182633]  157644  \n",
       "119455  ['Đối tượng đăng ký thuế\\n...\\n2. Người nộp th...   [75219]  148657  \n",
       "\n",
       "[119456 rows x 4 columns]"
      ]
     },
     "execution_count": 5,
     "metadata": {},
     "output_type": "execute_result"
    }
   ],
   "source": [
    "train"
   ]
  },
  {
   "cell_type": "code",
   "execution_count": 35,
   "metadata": {},
   "outputs": [
    {
     "data": {
      "text/plain": [
       "'Nội dung lồng ghép vấn đề bình đẳng giới trong xây dựng văn bản quy phạm pháp luật\\\\nTrong phạm vi điều chỉnh của văn bản quy phạm pháp luật:\\\\n1. Xác định nội dung liên quan đến vấn đề bình đẳng giới hoặc vấn đề bất bình đẳng giới, phân biệt đối xử về giới.\\\\n2. Quy định các biện pháp cần thiết để thực hiện bình đẳng giới hoặc để giải quyết vấn đề bất bình đẳng giới, phân biệt đối xử về giới; dự báo tác động của các quy định đó đối với nam và nữ sau khi được ban hành.\\\\n3. Xác định nguồn nhân lực, tài chính cần thiết để triển khai các biện pháp thực hiện bình đẳng giới hoặc để giải quyết vấn đề bất bình đẳng giới, phân biệt đối xử về giới'"
      ]
     },
     "execution_count": 35,
     "metadata": {},
     "output_type": "execute_result"
    }
   ],
   "source": [
    "from pyvi.ViTokenizer import tokenize\n",
    "import re\n",
    "txt = train['context'][1].strip('[]')\n",
    "txt = txt.strip('\\'\"').rstrip('/.')\n",
    "txt"
   ]
  },
  {
   "cell_type": "code",
   "execution_count": 49,
   "metadata": {},
   "outputs": [
    {
     "data": {
      "text/plain": [
       "'Bộ ngoại_giao'"
      ]
     },
     "execution_count": 49,
     "metadata": {},
     "output_type": "execute_result"
    }
   ],
   "source": [
    "tokenize(\"Bộ ngoại giao\")"
   ]
  },
  {
   "cell_type": "code",
   "execution_count": 45,
   "metadata": {},
   "outputs": [
    {
     "data": {
      "text/plain": [
       "'Điều_1d đây là thể hiện cái này không được'"
      ]
     },
     "execution_count": 45,
     "metadata": {},
     "output_type": "execute_result"
    }
   ],
   "source": [
    "test = 'Điều 1d đây là thể hiện cái này không được'\n",
    "re.sub(r\"(\\bĐiều)\\s+(\\d+)\", r\"\\1_\\2\", test)"
   ]
  },
  {
   "cell_type": "code",
   "execution_count": 37,
   "metadata": {},
   "outputs": [
    {
     "ename": "NameError",
     "evalue": "name 'test' is not defined",
     "output_type": "error",
     "traceback": [
      "\u001b[0;31m---------------------------------------------------------------------------\u001b[0m",
      "\u001b[0;31mNameError\u001b[0m                                 Traceback (most recent call last)",
      "Cell \u001b[0;32mIn[37], line 1\u001b[0m\n\u001b[0;32m----> 1\u001b[0m re\u001b[38;5;241m.\u001b[39msub(\u001b[38;5;124mr\u001b[39m\u001b[38;5;124m\"\u001b[39m\u001b[38;5;124m(Điều\u001b[39m\u001b[38;5;124m\\\u001b[39m\u001b[38;5;124ms)(\u001b[39m\u001b[38;5;124m\\\u001b[39m\u001b[38;5;124md+)\u001b[39m\u001b[38;5;124m\"\u001b[39m, \u001b[38;5;124mr\u001b[39m\u001b[38;5;124m\"\u001b[39m\u001b[38;5;124m\\\u001b[39m\u001b[38;5;124m1_\u001b[39m\u001b[38;5;124m\\\u001b[39m\u001b[38;5;124m2\u001b[39m\u001b[38;5;124m\"\u001b[39m, \u001b[43mtest\u001b[49m)\n",
      "\u001b[0;31mNameError\u001b[0m: name 'test' is not defined"
     ]
    }
   ],
   "source": [
    "re.sub(r\"(Điều\\s)(\\d+)\", r\"\\1_\\2\", test)"
   ]
  },
  {
   "cell_type": "code",
   "execution_count": 3,
   "metadata": {},
   "outputs": [
    {
     "data": {
      "text/plain": [
       "'báo_động'"
      ]
     },
     "execution_count": 3,
     "metadata": {},
     "output_type": "execute_result"
    }
   ],
   "source": [
    "from pyvi import ViTokenizer\n",
    "ViTokenizer.tokenize('báo động')"
   ]
  },
  {
   "cell_type": "code",
   "execution_count": 9,
   "metadata": {},
   "outputs": [
    {
     "data": {
      "text/plain": [
       "'đây là báo động.'"
      ]
     },
     "execution_count": 9,
     "metadata": {},
     "output_type": "execute_result"
    }
   ],
   "source": [
    "import re\n",
    "import string\n",
    "texs = 'đây là báo động.'\n",
    "texs.replace(string.punctuation, \" \")"
   ]
  },
  {
   "cell_type": "code",
   "execution_count": 1,
   "metadata": {},
   "outputs": [],
   "source": [
    "from src.preprocessor.text_preprocessor import TextPreprocessing"
   ]
  },
  {
   "cell_type": "code",
   "execution_count": 3,
   "metadata": {},
   "outputs": [],
   "source": [
    "from pyvi import ViTokenizer\n",
    "\n",
    "# ViTokenizer.tokenize('trở lên')\n",
    "txt  = \" Khi báo động lũ ở cấp I trở lên, (https://test.com) đội tuần tra, canh gác đê phải báo tín hiệu cấp báo động lũ tại các điếm canh đê, như sau:\\na) - Báo động lũ ở cấp I: 01 đèn màu xanh (ban ngày có thể bổ sung 01 biển hoặc cờ, hình tam giác màu đỏ để dễ nhận biết);\\n- Báo động lũ ở cấp II:    02 đèn màu xanh (ban ngày có thể bổ sung 02 biển hoặc cờ, hình tam giác màu đỏ để dễ nhận biết);\\n- Báo động lũ ở cấp III: 03 đèn màu xanh (ban ngày có thể bổ sung 03 biển hoặc cờ, hình tam giác màu đỏ để dễ nhận biết).\\nb) Các biển (hoặc cờ), đèn báo hiệu được treo theo chiều dọc, với chiều cao thích hợp để mọi người trong khu vực nhìn thấy được.\\n2. Trường hợp khẩn cấp xảy ra sự cố nguy hiểm đe dọa đến an toàn của đê Điều, cần phải huy động lực lượng ứng cứu thì đội trưởng hoặc đội phó của đội tuần tra, canh gác đê cho đánh trống (hoặc kẻng) liên hồi để báo động.\"\n"
   ]
  },
  {
   "cell_type": "code",
   "execution_count": 4,
   "metadata": {},
   "outputs": [
    {
     "name": "stderr",
     "output_type": "stream",
     "text": [
      "Xử lý các nội dung pháp lý: 100%|██████████| 75/75 [00:00<00:00, 408536.10it/s]\n",
      "Đang xử lý các quy tắc pháp luật: 100%|██████████| 5/5 [00:00<00:00, 2722.87it/s]\n",
      "Xử lý các từ đặc biệt: 100%|██████████| 1/1 [00:00<00:00, 10866.07it/s]\n"
     ]
    },
    {
     "data": {
      "text/plain": [
       "'Khi báo_động_lũ cấp_I trở_lên đội tuần_tra canh_gác đê báo tín_hiệu báo_động_lũ điếm_canh đê Báo_động lũ cấp_I 01 đèn màu xanh ban_ngày bổ_sung 01 biển cờ hình tam_giác màu đỏ Báo_động lũ cấp_II 02 đèn màu xanh ban_ngày bổ_sung 02 biển cờ hình tam_giác màu đỏ Báo_động lũ cấp_III 03 đèn màu xanh ban_ngày bổ_sung 03 biển cờ hình tam_giác màu đỏ . Các biển đèn báo_hiệu treo chiều dọc chiều thích_hợp khu_vực . Trường_hợp khẩn_cấp xảy sự_cố nguy_hiểm đe_dọa an_toàn đê Điều huy_động lực_lượng ứng_cứu đội_trưởng đội phó đội tuần_tra canh_gác đê đánh trống liên_hồi báo_động .'"
      ]
     },
     "execution_count": 4,
     "metadata": {},
     "output_type": "execute_result"
    }
   ],
   "source": [
    "text_preprocess = TextPreprocessing()\n",
    "text_preprocess.preprocess(txt)"
   ]
  },
  {
   "cell_type": "code",
   "execution_count": 6,
   "metadata": {},
   "outputs": [
    {
     "name": "stdout",
     "output_type": "stream",
     "text": [
      "luật pháp\n",
      "hiến pháp\n",
      "tư pháp\n",
      "hành chính\n",
      "quy định\n",
      "nghị định\n",
      "quy phạm\n",
      "chỉ thị\n",
      "xét xử\n",
      "bồi thường\n"
     ]
    }
   ],
   "source": [
    "LEGAL_DICT = {\n",
    "    \"luật pháp\": \"luật_pháp\",\n",
    "    \"hiến pháp\": \"hiến_pháp\",\n",
    "    \"tư pháp\": \"tư_pháp\",\n",
    "    \"hành chính\": \"hành_chính\",\n",
    "    \"quy định\": \"quy_định\",\n",
    "    \"nghị định\": \"nghị_định\",\n",
    "    \"quy phạm\": \"quy_phạm\",\n",
    "    \"chỉ thị\": \"chỉ_thị\",\n",
    "    \"xét xử\": \"xét_xử\",\n",
    "    \"bồi thường\": \"bồi_thường\"\n",
    "}\n",
    "\n",
    "for i, j in LEGAL_DICT.items():\n",
    "    print(i)"
   ]
  }
 ],
 "metadata": {
  "kernelspec": {
   "display_name": "Python 3",
   "language": "python",
   "name": "python3"
  },
  "language_info": {
   "codemirror_mode": {
    "name": "ipython",
    "version": 3
   },
   "file_extension": ".py",
   "mimetype": "text/x-python",
   "name": "python",
   "nbconvert_exporter": "python",
   "pygments_lexer": "ipython3",
   "version": "3.10.15"
  }
 },
 "nbformat": 4,
 "nbformat_minor": 2
}
