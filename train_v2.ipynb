{
 "cells": [
  {
   "cell_type": "code",
   "execution_count": 7,
   "metadata": {},
   "outputs": [],
   "source": [
    "from src.preprocessor.utils.dataset_level import read_pickle, prepare_training_dataset, read_json\n",
    "from itertools import islice\n",
    "\n",
    "# corpus = read_pickle('/home/thiendc/projects/legal_retrieval/data/processed/corpus.pkl')\n",
    "queries = read_pickle('/home/thiendc/projects/legal_retrieval/data/processed/queries.pkl')\n",
    "# relevant_docs = read_pickle('/home/thiendc/projects/legal_retrieval/data/processed/relevant_docs.pkl')"
   ]
  },
  {
   "cell_type": "code",
   "execution_count": 11,
   "metadata": {},
   "outputs": [],
   "source": [
    "queries = list(queries.values())"
   ]
  },
  {
   "cell_type": "code",
   "execution_count": 12,
   "metadata": {},
   "outputs": [
    {
     "name": "stdout",
     "output_type": "stream",
     "text": [
      "Sản phẩm phần mềm có được hưởng ưu đãi về thời gian miễn thuế, giảm thuế hay không? Nếu được thì trong vòng bao nhiêu năm?\n"
     ]
    }
   ],
   "source": [
    "for i in queries:\n",
    "    if \"Nếu\".lower() in i.lower():\n",
    "        print(i)\n",
    "        break"
   ]
  },
  {
   "cell_type": "code",
   "execution_count": 24,
   "metadata": {},
   "outputs": [
    {
     "data": {
      "text/plain": [
       "' Bạn là người trợ lý hữu ích, trung thực và tài giỏi về lĩnh vực pháp luật dân sự Việt Nam. \\nBạn hãy giúp tôi phân loại câu hỏi mà người dùng đưa vào để nhân diện chúng thuộc về loại câu hỏi nào trong 7 loại câu hỏi về pháp luật dưới đây:\\n-   Câu hỏi pháp lý\\n-   Câu hỏi về giải thích luật \\n-   Câu hỏi về áp dụng luật\\n-   Câu hỏi về quyền và nghĩa vụ \\n-   Câu hỏi về tiền lệ pháp lý \\n-   Câu hỏi về chứng cứ\\n-   Câu hỏi tình huống\" \\n\\nNếu câu hỏi người dùng đưa vào khó để phân loại, hãy gán nhãn là Unknown.\\nHãy đưa câu trả lời dưới dạng json như ví dụ sau với mỗi user prompt\\n{\\n    \"label\": Câu hỏi tình huống,\\n    \"question\": Câu hỏi được đưa vào để kiểm tra \\n}\\n\\n'"
      ]
     },
     "execution_count": 24,
     "metadata": {},
     "output_type": "execute_result"
    }
   ],
   "source": [
    "from src.generator.gen_label.settings import DEFAULT_SYSTEM_PROMPT\n",
    "DEFAULT_SYSTEM_PROMPT"
   ]
  },
  {
   "cell_type": "code",
   "execution_count": 27,
   "metadata": {},
   "outputs": [],
   "source": [
    "# from transformers import AutoModelForCausalLM, AutoTokenizer\n",
    "\n",
    "# model_name = \"Qwen/Qwen2.5-1.5B-Instruct\"\n",
    "\n",
    "# model = AutoModelForCausalLM.from_pretrained(\n",
    "#     model_name,\n",
    "#     torch_dtype=\"float32\",\n",
    "#     device_map=\"auto\"\n",
    "# )\n",
    "# tokenizer = AutoTokenizer.from_pretrained(model_name)\n",
    "\n",
    "prompt = \"Sản phẩm phần mềm có được hưởng ưu đãi về thời gian miễn thuế, giảm thuế hay không? Nếu được thì trong vòng bao nhiêu năm?\"\n",
    "messages = [\n",
    "    {\"role\": \"system\", \"content\": DEFAULT_SYSTEM_PROMPT},\n",
    "    {\"role\": \"user\", \"content\": prompt}\n",
    "]\n",
    "text = tokenizer.apply_chat_template(\n",
    "    messages,\n",
    "    tokenize=False,\n",
    "    add_generation_prompt=True\n",
    ")\n",
    "model_inputs = tokenizer([text], return_tensors=\"pt\").to(model.device)\n",
    "\n",
    "generated_ids = model.generate(\n",
    "    **model_inputs,\n",
    "    max_new_tokens= 128\n",
    ")\n",
    "generated_ids = [\n",
    "    output_ids[len(input_ids):] for input_ids, output_ids in zip(model_inputs.input_ids, generated_ids)\n",
    "]\n",
    "\n",
    "response = tokenizer.batch_decode(generated_ids, skip_special_tokens=True)[0]"
   ]
  },
  {
   "cell_type": "code",
   "execution_count": 26,
   "metadata": {},
   "outputs": [
    {
     "data": {
      "text/plain": [
       "'<|im_start|>system\\n Bạn là người trợ lý hữu ích, trung thực và tài giỏi về lĩnh vực pháp luật dân sự Việt Nam. \\nBạn hãy giúp tôi phân loại câu hỏi mà người dùng đưa vào để nhân diện chúng thuộc về loại câu hỏi nào trong 7 loại câu hỏi về pháp luật dưới đây:\\n-   Câu hỏi pháp lý\\n-   Câu hỏi về giải thích luật \\n-   Câu hỏi về áp dụng luật\\n-   Câu hỏi về quyền và nghĩa vụ \\n-   Câu hỏi về tiền lệ pháp lý \\n-   Câu hỏi về chứng cứ\\n-   Câu hỏi tình huống\" \\n\\nNếu câu hỏi người dùng đưa vào khó để phân loại, hãy gán nhãn là Unknown.\\nHãy đưa câu trả lời dưới dạng json như ví dụ sau với mỗi user prompt\\n{\\n    \"label\": Câu hỏi tình huống,\\n    \"question\": Câu hỏi được đưa vào để kiểm tra \\n}\\n\\n<|im_end|>\\n<|im_start|>user\\nSản phẩm phần mềm có được hưởng ưu đãi về thời gian miễn thuế, giảm thuế hay không? Nếu được thì trong vòng bao nhiêu năm?<|im_end|>\\n<|im_start|>assistant\\n'"
      ]
     },
     "execution_count": 26,
     "metadata": {},
     "output_type": "execute_result"
    }
   ],
   "source": [
    "text"
   ]
  },
  {
   "cell_type": "code",
   "execution_count": 28,
   "metadata": {},
   "outputs": [
    {
     "data": {
      "text/plain": [
       "'{\\n    \"label\": \"Câu hỏi về quyền và nghĩa vụ\",\\n    \"question\": \"Sản phẩm phần mềm có được hưởng ưu đãi về thời gian miễn thuế, giảm thuế hay không? Nếu được thì trong vòng bao nhiêu năm?\"\\n}'"
      ]
     },
     "execution_count": 28,
     "metadata": {},
     "output_type": "execute_result"
    }
   ],
   "source": [
    "response"
   ]
  }
 ],
 "metadata": {
  "kernelspec": {
   "display_name": "Python 3",
   "language": "python",
   "name": "python3"
  },
  "language_info": {
   "codemirror_mode": {
    "name": "ipython",
    "version": 3
   },
   "file_extension": ".py",
   "mimetype": "text/x-python",
   "name": "python",
   "nbconvert_exporter": "python",
   "pygments_lexer": "ipython3",
   "version": "3.10.15"
  }
 },
 "nbformat": 4,
 "nbformat_minor": 2
}
