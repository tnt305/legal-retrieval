{
 "cells": [
  {
   "cell_type": "code",
   "execution_count": 5,
   "metadata": {},
   "outputs": [],
   "source": [
    "def download_and_setup_model(model_id, custom_save_path):\n",
    "    \"\"\"\n",
    "    Download and setup the model in a custom location\n",
    "    \"\"\"\n",
    "    import os\n",
    "    from transformers import AutoTokenizer, AutoModel\n",
    "    # Create directory if it doesn't exist\n",
    "    os.makedirs(custom_save_path, exist_ok=True)\n",
    "    \n",
    "    # Download model and tokenizer\n",
    "    tokenizer = AutoTokenizer.from_pretrained(model_id)\n",
    "    model = AutoModel.from_pretrained(model_id)\n",
    "    \n",
    "    # Save to custom location\n",
    "    tokenizer.save_pretrained(custom_save_path)\n",
    "    model.save_pretrained(custom_save_path)\n",
    "    \n",
    "    return custom_save_path\n",
    "\n",
    "custom_save_path = download_and_setup_model(\"NghiemAbe/Vi-Legal-Bi-Encoder-v2\", \"./embeddings/legal_roberta\")"
   ]
  },
  {
   "cell_type": "code",
   "execution_count": 14,
   "metadata": {},
   "outputs": [
    {
     "data": {
      "text/plain": [
       "'/home/thiendc/projects/legal_retrieval'"
      ]
     },
     "execution_count": 14,
     "metadata": {},
     "output_type": "execute_result"
    }
   ],
   "source": [
    "pwd"
   ]
  },
  {
   "cell_type": "code",
   "execution_count": 23,
   "metadata": {},
   "outputs": [],
   "source": [
    "from transformers import RobertaTokenizerFast, PhobertTokenizer\n",
    "from tokenizers import ByteLevelBPETokenizer\n",
    "from pathlib import Path\n",
    "import tempfile\n",
    "import os\n",
    "import json\n",
    "import shutil\n",
    "def update_legal_tokenizer(\n",
    "    base_model_path=\"/home/thiendc/projects/legal_retrieval/embeddings/legal_roberta\",\n",
    "    texts_list=None,\n",
    "    output_dir=\"/home/thiendc/projects/legal_retrieval/embeddings/legal_roberta\"):\n",
    "    \n",
    "    # Load the original config\n",
    "    config_path = os.path.join(base_model_path, \"config.json\")\n",
    "    with open(config_path, \"r\") as f:\n",
    "        config = json.load(f)\n",
    "    \n",
    "    # Create a temporary directory to save texts\n",
    "    with tempfile.TemporaryDirectory() as temp_dir:\n",
    "        # Save texts to temporary file\n",
    "        temp_file_path = os.path.join(temp_dir, \"corpus.txt\")\n",
    "        with open(temp_file_path, \"w\", encoding=\"utf-8\") as f:\n",
    "            for text in texts_list:\n",
    "                f.write(text + \"\\n\")\n",
    "        \n",
    "        # Initialize tokenizer from the base model\n",
    "        tokenizer = ByteLevelBPETokenizer.from_file(\n",
    "            vocab_filename=os.path.join(base_model_path, \"vocab.json\"),\n",
    "            merges_filename=os.path.join(base_model_path, \"merges.txt\")\n",
    "        )\n",
    "        \n",
    "        # Train the tokenizer\n",
    "        tokenizer.train(\n",
    "            files=[temp_file_path],\n",
    "            vocab_size=config[\"vocab_size\"],\n",
    "            min_frequency=2,\n",
    "            special_tokens=[\n",
    "                \"<s>\",\n",
    "                \"<pad>\",\n",
    "                \"</s>\",\n",
    "                \"<unk>\",\n",
    "                \"<mask>\"\n",
    "            ]\n",
    "        )\n",
    "        \n",
    "        # Ensure output directory exists\n",
    "        os.makedirs(output_dir, exist_ok=True)\n",
    "        \n",
    "        # Save the updated tokenizer\n",
    "        tokenizer.save_model(output_dir)\n",
    "        \n",
    "        # Convert to PhobertTokenizer\n",
    "        updated_tokenizer = PhobertTokenizer(\n",
    "            vocab_file=os.path.join(output_dir, \"vocab.json\"),\n",
    "            merges_file=os.path.join(output_dir, \"merges.txt\"),\n",
    "            bos_token=\"<s>\",\n",
    "            eos_token=\"</s>\",\n",
    "            sep_token=\"</s>\",\n",
    "            cls_token=\"<s>\",\n",
    "            unk_token=\"<unk>\",\n",
    "            pad_token=\"<pad>\",\n",
    "            mask_token=\"<mask>\",\n",
    "            max_len=config[\"max_position_embeddings\"]\n",
    "        )\n",
    "        \n",
    "        # Save tokenizer configuration\n",
    "        updated_tokenizer.save_pretrained(output_dir)\n",
    "        \n",
    "        # Update and save the config\n",
    "        tokenizer_config = {\n",
    "            \"tokenizer_class\": \"PhobertTokenizer\",\n",
    "            \"model_max_length\": config[\"max_position_embeddings\"],\n",
    "            \"padding_side\": \"right\",\n",
    "            \"truncation_side\": \"right\",\n",
    "            \"bos_token\": \"<s>\",\n",
    "            \"eos_token\": \"</s>\",\n",
    "            \"unk_token\": \"<unk>\",\n",
    "            \"sep_token\": \"</s>\",\n",
    "            \"pad_token\": \"<pad>\",\n",
    "            \"cls_token\": \"<s>\",\n",
    "            \"mask_token\": \"<mask>\",\n",
    "        }\n",
    "        \n",
    "        config_path = os.path.join(output_dir, \"tokenizer_config.json\")\n",
    "        with open(config_path, \"w\") as f:\n",
    "            json.dump(tokenizer_config, f, indent=2)\n",
    "            \n",
    "        print(f\"Updated tokenizer saved at: {output_dir}\")\n",
    "        print(f\"Config saved at: {config_path}\")\n",
    "            \n",
    "        return updated_tokenizer"
   ]
  },
  {
   "cell_type": "code",
   "execution_count": 12,
   "metadata": {},
   "outputs": [],
   "source": [
    "from src.preprocessor.utils.dataset_level import read_json\n",
    "list_corpus = read_json('/home/thiendc/projects/legal_retrieval/data/update_vocab.json')"
   ]
  },
  {
   "cell_type": "code",
   "execution_count": 24,
   "metadata": {},
   "outputs": [
    {
     "ename": "Exception",
     "evalue": "Error while reading vocab & merges files: No such file or directory (os error 2)",
     "output_type": "error",
     "traceback": [
      "\u001b[0;31m---------------------------------------------------------------------------\u001b[0m",
      "\u001b[0;31mException\u001b[0m                                 Traceback (most recent call last)",
      "Cell \u001b[0;32mIn[24], line 1\u001b[0m\n\u001b[0;32m----> 1\u001b[0m updated_tokenizer \u001b[38;5;241m=\u001b[39m \u001b[43mupdate_legal_tokenizer\u001b[49m\u001b[43m(\u001b[49m\u001b[43mtexts_list\u001b[49m\u001b[38;5;241;43m=\u001b[39;49m\u001b[43m \u001b[49m\u001b[43mlist_corpus\u001b[49m\u001b[43m)\u001b[49m\n\u001b[1;32m      3\u001b[0m \u001b[38;5;66;03m# Test the tokenizer\u001b[39;00m\n\u001b[1;32m      4\u001b[0m test_text \u001b[38;5;241m=\u001b[39m \u001b[38;5;124m\"\u001b[39m\u001b[38;5;124mYour test legal text\u001b[39m\u001b[38;5;124m\"\u001b[39m\n",
      "Cell \u001b[0;32mIn[23], line 27\u001b[0m, in \u001b[0;36mupdate_legal_tokenizer\u001b[0;34m(base_model_path, texts_list, output_dir)\u001b[0m\n\u001b[1;32m     24\u001b[0m         f\u001b[38;5;241m.\u001b[39mwrite(text \u001b[38;5;241m+\u001b[39m \u001b[38;5;124m\"\u001b[39m\u001b[38;5;130;01m\\n\u001b[39;00m\u001b[38;5;124m\"\u001b[39m)\n\u001b[1;32m     26\u001b[0m \u001b[38;5;66;03m# Initialize tokenizer from the base model\u001b[39;00m\n\u001b[0;32m---> 27\u001b[0m tokenizer \u001b[38;5;241m=\u001b[39m \u001b[43mByteLevelBPETokenizer\u001b[49m\u001b[38;5;241;43m.\u001b[39;49m\u001b[43mfrom_file\u001b[49m\u001b[43m(\u001b[49m\n\u001b[1;32m     28\u001b[0m \u001b[43m    \u001b[49m\u001b[43mvocab_filename\u001b[49m\u001b[38;5;241;43m=\u001b[39;49m\u001b[43mos\u001b[49m\u001b[38;5;241;43m.\u001b[39;49m\u001b[43mpath\u001b[49m\u001b[38;5;241;43m.\u001b[39;49m\u001b[43mjoin\u001b[49m\u001b[43m(\u001b[49m\u001b[43mbase_model_path\u001b[49m\u001b[43m,\u001b[49m\u001b[43m \u001b[49m\u001b[38;5;124;43m\"\u001b[39;49m\u001b[38;5;124;43mvocab.json\u001b[39;49m\u001b[38;5;124;43m\"\u001b[39;49m\u001b[43m)\u001b[49m\u001b[43m,\u001b[49m\n\u001b[1;32m     29\u001b[0m \u001b[43m    \u001b[49m\u001b[43mmerges_filename\u001b[49m\u001b[38;5;241;43m=\u001b[39;49m\u001b[43mos\u001b[49m\u001b[38;5;241;43m.\u001b[39;49m\u001b[43mpath\u001b[49m\u001b[38;5;241;43m.\u001b[39;49m\u001b[43mjoin\u001b[49m\u001b[43m(\u001b[49m\u001b[43mbase_model_path\u001b[49m\u001b[43m,\u001b[49m\u001b[43m \u001b[49m\u001b[38;5;124;43m\"\u001b[39;49m\u001b[38;5;124;43mmerges.txt\u001b[39;49m\u001b[38;5;124;43m\"\u001b[39;49m\u001b[43m)\u001b[49m\n\u001b[1;32m     30\u001b[0m \u001b[43m\u001b[49m\u001b[43m)\u001b[49m\n\u001b[1;32m     32\u001b[0m \u001b[38;5;66;03m# Train the tokenizer\u001b[39;00m\n\u001b[1;32m     33\u001b[0m tokenizer\u001b[38;5;241m.\u001b[39mtrain(\n\u001b[1;32m     34\u001b[0m     files\u001b[38;5;241m=\u001b[39m[temp_file_path],\n\u001b[1;32m     35\u001b[0m     vocab_size\u001b[38;5;241m=\u001b[39mconfig[\u001b[38;5;124m\"\u001b[39m\u001b[38;5;124mvocab_size\u001b[39m\u001b[38;5;124m\"\u001b[39m],\n\u001b[0;32m   (...)\u001b[0m\n\u001b[1;32m     43\u001b[0m     ]\n\u001b[1;32m     44\u001b[0m )\n",
      "File \u001b[0;32m~/projects/.thienenv/lib/python3.10/site-packages/tokenizers/implementations/byte_level_bpe.py:76\u001b[0m, in \u001b[0;36mByteLevelBPETokenizer.from_file\u001b[0;34m(vocab_filename, merges_filename, **kwargs)\u001b[0m\n\u001b[1;32m     74\u001b[0m \u001b[38;5;129m@staticmethod\u001b[39m\n\u001b[1;32m     75\u001b[0m \u001b[38;5;28;01mdef\u001b[39;00m \u001b[38;5;21mfrom_file\u001b[39m(vocab_filename: \u001b[38;5;28mstr\u001b[39m, merges_filename: \u001b[38;5;28mstr\u001b[39m, \u001b[38;5;241m*\u001b[39m\u001b[38;5;241m*\u001b[39mkwargs):\n\u001b[0;32m---> 76\u001b[0m     vocab, merges \u001b[38;5;241m=\u001b[39m \u001b[43mBPE\u001b[49m\u001b[38;5;241;43m.\u001b[39;49m\u001b[43mread_file\u001b[49m\u001b[43m(\u001b[49m\u001b[43mvocab_filename\u001b[49m\u001b[43m,\u001b[49m\u001b[43m \u001b[49m\u001b[43mmerges_filename\u001b[49m\u001b[43m)\u001b[49m\n\u001b[1;32m     77\u001b[0m     \u001b[38;5;28;01mreturn\u001b[39;00m ByteLevelBPETokenizer(vocab, merges, \u001b[38;5;241m*\u001b[39m\u001b[38;5;241m*\u001b[39mkwargs)\n",
      "\u001b[0;31mException\u001b[0m: Error while reading vocab & merges files: No such file or directory (os error 2)"
     ]
    }
   ],
   "source": [
    "updated_tokenizer = update_legal_tokenizer(texts_list= list_corpus)\n",
    "\n",
    "# Test the tokenizer\n",
    "test_text = \"Your test legal text\"\n",
    "encoded = updated_tokenizer(test_text)\n",
    "decoded = updated_tokenizer.decode(encoded[\"input_ids\"])\n",
    "\n",
    "print(f\"Encoded: {encoded['input_ids']}\")\n",
    "print(f\"Decoded: {decoded}\")\n",
    "print(f\"Vocabulary size: {updated_tokenizer.vocab_size}\")\n",
    "\n",
    "# Verify compatibility\n",
    "assert updated_tokenizer.vocab_size == 64001, \"Vocabulary size mismatch\"\n",
    "assert updated_tokenizer.model_max_length == 258, \"Max length mismatch\""
   ]
  },
  {
   "cell_type": "code",
   "execution_count": null,
   "metadata": {},
   "outputs": [],
   "source": [
    "os.path.join()"
   ]
  },
  {
   "cell_type": "code",
   "execution_count": null,
   "metadata": {},
   "outputs": [],
   "source": []
  },
  {
   "cell_type": "code",
   "execution_count": null,
   "metadata": {},
   "outputs": [],
   "source": []
  },
  {
   "cell_type": "code",
   "execution_count": 18,
   "metadata": {},
   "outputs": [],
   "source": [
    "from src.preprocessor.utils.dataset_level import *\n",
    "# import string\n",
    "# old_vocab =read_txt('./data/vocab/phobert_vocab_raw.txt')\n",
    "# vocabs = []\n",
    "# for item in old_vocab:\n",
    "#     item = item.split(\" \")[0]\n",
    "#     if len(item) > 1:\n",
    "#         item = item.replace(\"@@\", \"\")\n",
    "#         for punc in string.punctuation:\n",
    "#             if item.endswith(punc):\n",
    "#                 item = item.replace(punc, \"\")\n",
    "#     else:\n",
    "#         item = item\n",
    "#     vocabs.append(item)"
   ]
  },
  {
   "cell_type": "code",
   "execution_count": 26,
   "metadata": {},
   "outputs": [
    {
     "data": {
      "text/plain": [
       "13007"
      ]
     },
     "execution_count": 26,
     "metadata": {},
     "output_type": "execute_result"
    }
   ],
   "source": [
    "from src.preprocessor.vocab.stopwords import STOP_WORDS\n",
    "from src.preprocessor.vocab.roman_numerals_dict import ROMAN_DICT\n",
    "from src.preprocessor.vocab.duties_dict import DUTIES\n",
    "from src.preprocessor.vocab.legal_dict import LEGAL_DICT\n",
    "\n",
    "\n",
    "corpus = set(read_json('./src/preprocessor/vocab/data/update_vocab.json'))\n",
    "phobert_vocab = read_json('./src/preprocessor/vocab/data/phobert_vocab_processed.json')\n",
    "DUTIES = set(DUTIES.values())\n",
    "LEGAL_DICT = set(LEGAL_DICT.values())\n",
    "# corpus.update(set(phobert_vocab))\n",
    "corpus.update(ROMAN_DICT)\n",
    "corpus.update(STOP_WORDS)\n",
    "corpus.update(DUTIES)\n",
    "corpus.update(LEGAL_DICT)\n",
    "len(corpus)\n"
   ]
  },
  {
   "cell_type": "code",
   "execution_count": 27,
   "metadata": {},
   "outputs": [],
   "source": [
    "save_json(list(corpus), './src/preprocessor/vocab/data/update_vocab_v1.json')"
   ]
  }
 ],
 "metadata": {
  "kernelspec": {
   "display_name": "Python 3",
   "language": "python",
   "name": "python3"
  },
  "language_info": {
   "codemirror_mode": {
    "name": "ipython",
    "version": 3
   },
   "file_extension": ".py",
   "mimetype": "text/x-python",
   "name": "python",
   "nbconvert_exporter": "python",
   "pygments_lexer": "ipython3",
   "version": "3.10.15"
  }
 },
 "nbformat": 4,
 "nbformat_minor": 2
}
