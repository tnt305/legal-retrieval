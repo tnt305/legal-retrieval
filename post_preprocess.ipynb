{
 "cells": [
  {
   "cell_type": "code",
   "execution_count": 1,
   "metadata": {},
   "outputs": [],
   "source": [
    "import pickle\n",
    "\n",
    "with open(\"./data/processed/queries_before.pkl\", 'rb') as f:\n",
    "    queries = pickle.load(f)\n",
    "\n",
    "with open('./data/processed/corpus_before.pkl', 'rb') as f:\n",
    "    corpus = pickle.load(f)"
   ]
  },
  {
   "cell_type": "code",
   "execution_count": 2,
   "metadata": {},
   "outputs": [],
   "source": [
    "from src.preprocessor.preprocessor import TextPreprocessing\n",
    "from src.preprocessor.utils import remove_n_items\n",
    "preprocessor = TextPreprocessing()\n"
   ]
  },
  {
   "cell_type": "code",
   "execution_count": 3,
   "metadata": {},
   "outputs": [],
   "source": [
    "import re\n",
    "import string\n",
    "def remove_punc(text):\n",
    "    words = text.split(\" \")\n",
    "    rewrite_text = []\n",
    "    for word in words:\n",
    "        if word in string.punctuation:\n",
    "            continue\n",
    "        else:\n",
    "            rewrite_text.append(word)\n",
    "    \n",
    "    return \" \".join(rewrite_text)"
   ]
  },
  {
   "cell_type": "code",
   "execution_count": 17,
   "metadata": {},
   "outputs": [],
   "source": [
    "k_queries = dict(list(queries.items())[:5000])"
   ]
  },
  {
   "cell_type": "code",
   "execution_count": 18,
   "metadata": {},
   "outputs": [
    {
     "name": "stderr",
     "output_type": "stream",
     "text": [
      "  0%|          | 0/5000 [00:00<?, ?it/s]"
     ]
    },
    {
     "name": "stderr",
     "output_type": "stream",
     "text": [
      "100%|██████████| 5000/5000 [33:26<00:00,  2.49it/s]  \n"
     ]
    }
   ],
   "source": [
    "import json\n",
    "from tqdm import tqdm\n",
    "\n",
    "update_vocab = set()\n",
    "\n",
    "for key, value in tqdm(k_queries.items()):\n",
    "    txt = remove_punc(remove_n_items(preprocessor.preprocess_text(value)))\n",
    "    update_vocab.update(i for i in txt.split())\n",
    "\n",
    "with open(\"./data/update_vocab.json\", \"w\", encoding=\"utf-8\") as f:\n",
    "    json.dump(list(update_vocab), f, ensure_ascii=False, indent=4)"
   ]
  }
 ],
 "metadata": {
  "kernelspec": {
   "display_name": "Python 3",
   "language": "python",
   "name": "python3"
  },
  "language_info": {
   "codemirror_mode": {
    "name": "ipython",
    "version": 3
   },
   "file_extension": ".py",
   "mimetype": "text/x-python",
   "name": "python",
   "nbconvert_exporter": "python",
   "pygments_lexer": "ipython3",
   "version": "3.10.15"
  }
 },
 "nbformat": 4,
 "nbformat_minor": 2
}
