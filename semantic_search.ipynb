{
 "cells": [
  {
   "cell_type": "code",
   "execution_count": 3,
   "metadata": {},
   "outputs": [],
   "source": [
    "from qdrant_client import models, QdrantClient\n",
    "from sentence_transformers import SentenceTransformer"
   ]
  },
  {
   "cell_type": "code",
   "execution_count": 1,
   "metadata": {},
   "outputs": [
    {
     "name": "stdout",
     "output_type": "stream",
     "text": [
      "Requirement already satisfied: sentence_transformers in /home/thiendc/projects/.thienenv/lib/python3.10/site-packages (3.2.1)\n",
      "Requirement already satisfied: datasets in /home/thiendc/projects/.thienenv/lib/python3.10/site-packages (3.0.1)\n",
      "Collecting accelerate\n",
      "  Downloading accelerate-1.0.1-py3-none-any.whl.metadata (19 kB)\n",
      "Requirement already satisfied: transformers<5.0.0,>=4.41.0 in /home/thiendc/projects/.thienenv/lib/python3.10/site-packages (from sentence_transformers) (4.45.2)\n",
      "Requirement already satisfied: tqdm in /home/thiendc/projects/.thienenv/lib/python3.10/site-packages (from sentence_transformers) (4.66.5)\n",
      "Requirement already satisfied: torch>=1.11.0 in /home/thiendc/projects/.thienenv/lib/python3.10/site-packages (from sentence_transformers) (2.0.1)\n",
      "Requirement already satisfied: scikit-learn in /home/thiendc/projects/.thienenv/lib/python3.10/site-packages (from sentence_transformers) (1.5.2)\n",
      "Requirement already satisfied: scipy in /home/thiendc/projects/.thienenv/lib/python3.10/site-packages (from sentence_transformers) (1.13.1)\n",
      "Requirement already satisfied: huggingface-hub>=0.20.0 in /home/thiendc/projects/.thienenv/lib/python3.10/site-packages (from sentence_transformers) (0.25.2)\n",
      "Requirement already satisfied: Pillow in /home/thiendc/projects/.thienenv/lib/python3.10/site-packages (from sentence_transformers) (10.4.0)\n",
      "Requirement already satisfied: filelock in /home/thiendc/projects/.thienenv/lib/python3.10/site-packages (from datasets) (3.13.1)\n",
      "Requirement already satisfied: numpy>=1.17 in /home/thiendc/projects/.thienenv/lib/python3.10/site-packages (from datasets) (1.26.4)\n",
      "Requirement already satisfied: pyarrow>=15.0.0 in /home/thiendc/projects/.thienenv/lib/python3.10/site-packages (from datasets) (17.0.0)\n",
      "Requirement already satisfied: dill<0.3.9,>=0.3.0 in /home/thiendc/projects/.thienenv/lib/python3.10/site-packages (from datasets) (0.3.8)\n",
      "Requirement already satisfied: pandas in /home/thiendc/projects/.thienenv/lib/python3.10/site-packages (from datasets) (2.2.3)\n",
      "Requirement already satisfied: requests>=2.32.2 in /home/thiendc/projects/.thienenv/lib/python3.10/site-packages (from datasets) (2.32.3)\n",
      "Requirement already satisfied: xxhash in /home/thiendc/projects/.thienenv/lib/python3.10/site-packages (from datasets) (3.5.0)\n",
      "Requirement already satisfied: multiprocess in /home/thiendc/projects/.thienenv/lib/python3.10/site-packages (from datasets) (0.70.16)\n",
      "Requirement already satisfied: fsspec<=2024.6.1,>=2023.1.0 in /home/thiendc/projects/.thienenv/lib/python3.10/site-packages (from fsspec[http]<=2024.6.1,>=2023.1.0->datasets) (2024.6.1)\n",
      "Requirement already satisfied: aiohttp in /home/thiendc/projects/.thienenv/lib/python3.10/site-packages (from datasets) (3.10.9)\n",
      "Requirement already satisfied: packaging in /home/thiendc/projects/.thienenv/lib/python3.10/site-packages (from datasets) (24.1)\n",
      "Requirement already satisfied: pyyaml>=5.1 in /home/thiendc/projects/.thienenv/lib/python3.10/site-packages (from datasets) (6.0.2)\n",
      "Requirement already satisfied: psutil in /home/thiendc/projects/.thienenv/lib/python3.10/site-packages (from accelerate) (5.9.0)\n",
      "Requirement already satisfied: safetensors>=0.4.3 in /home/thiendc/projects/.thienenv/lib/python3.10/site-packages (from accelerate) (0.4.5)\n",
      "Requirement already satisfied: aiohappyeyeballs>=2.3.0 in /home/thiendc/projects/.thienenv/lib/python3.10/site-packages (from aiohttp->datasets) (2.4.3)\n",
      "Requirement already satisfied: aiosignal>=1.1.2 in /home/thiendc/projects/.thienenv/lib/python3.10/site-packages (from aiohttp->datasets) (1.3.1)\n",
      "Requirement already satisfied: attrs>=17.3.0 in /home/thiendc/projects/.thienenv/lib/python3.10/site-packages (from aiohttp->datasets) (24.2.0)\n",
      "Requirement already satisfied: frozenlist>=1.1.1 in /home/thiendc/projects/.thienenv/lib/python3.10/site-packages (from aiohttp->datasets) (1.4.1)\n",
      "Requirement already satisfied: multidict<7.0,>=4.5 in /home/thiendc/projects/.thienenv/lib/python3.10/site-packages (from aiohttp->datasets) (6.1.0)\n",
      "Requirement already satisfied: yarl<2.0,>=1.12.0 in /home/thiendc/projects/.thienenv/lib/python3.10/site-packages (from aiohttp->datasets) (1.14.0)\n",
      "Requirement already satisfied: async-timeout<5.0,>=4.0 in /home/thiendc/projects/.thienenv/lib/python3.10/site-packages (from aiohttp->datasets) (4.0.3)\n",
      "Requirement already satisfied: typing-extensions>=3.7.4.3 in /home/thiendc/projects/.thienenv/lib/python3.10/site-packages (from huggingface-hub>=0.20.0->sentence_transformers) (4.12.2)\n",
      "Requirement already satisfied: charset-normalizer<4,>=2 in /home/thiendc/projects/.thienenv/lib/python3.10/site-packages (from requests>=2.32.2->datasets) (3.4.0)\n",
      "Requirement already satisfied: idna<4,>=2.5 in /home/thiendc/projects/.thienenv/lib/python3.10/site-packages (from requests>=2.32.2->datasets) (3.7)\n",
      "Requirement already satisfied: urllib3<3,>=1.21.1 in /home/thiendc/projects/.thienenv/lib/python3.10/site-packages (from requests>=2.32.2->datasets) (2.2.3)\n",
      "Requirement already satisfied: certifi>=2017.4.17 in /home/thiendc/projects/.thienenv/lib/python3.10/site-packages (from requests>=2.32.2->datasets) (2024.8.30)\n",
      "Requirement already satisfied: sympy in /home/thiendc/projects/.thienenv/lib/python3.10/site-packages (from torch>=1.11.0->sentence_transformers) (1.13.2)\n",
      "Requirement already satisfied: networkx in /home/thiendc/projects/.thienenv/lib/python3.10/site-packages (from torch>=1.11.0->sentence_transformers) (3.3)\n",
      "Requirement already satisfied: jinja2 in /home/thiendc/projects/.thienenv/lib/python3.10/site-packages (from torch>=1.11.0->sentence_transformers) (3.1.4)\n",
      "Requirement already satisfied: regex!=2019.12.17 in /home/thiendc/projects/.thienenv/lib/python3.10/site-packages (from transformers<5.0.0,>=4.41.0->sentence_transformers) (2024.9.11)\n",
      "Requirement already satisfied: tokenizers<0.21,>=0.20 in /home/thiendc/projects/.thienenv/lib/python3.10/site-packages (from transformers<5.0.0,>=4.41.0->sentence_transformers) (0.20.0)\n",
      "Requirement already satisfied: python-dateutil>=2.8.2 in /home/thiendc/projects/.thienenv/lib/python3.10/site-packages (from pandas->datasets) (2.9.0)\n",
      "Requirement already satisfied: pytz>=2020.1 in /home/thiendc/projects/.thienenv/lib/python3.10/site-packages (from pandas->datasets) (2024.2)\n",
      "Requirement already satisfied: tzdata>=2022.7 in /home/thiendc/projects/.thienenv/lib/python3.10/site-packages (from pandas->datasets) (2024.2)\n",
      "Requirement already satisfied: joblib>=1.2.0 in /home/thiendc/projects/.thienenv/lib/python3.10/site-packages (from scikit-learn->sentence_transformers) (1.4.2)\n",
      "Requirement already satisfied: threadpoolctl>=3.1.0 in /home/thiendc/projects/.thienenv/lib/python3.10/site-packages (from scikit-learn->sentence_transformers) (3.5.0)\n",
      "Requirement already satisfied: six>=1.5 in /home/thiendc/projects/.thienenv/lib/python3.10/site-packages (from python-dateutil>=2.8.2->pandas->datasets) (1.16.0)\n",
      "Requirement already satisfied: propcache>=0.2.0 in /home/thiendc/projects/.thienenv/lib/python3.10/site-packages (from yarl<2.0,>=1.12.0->aiohttp->datasets) (0.2.0)\n",
      "Requirement already satisfied: MarkupSafe>=2.0 in /home/thiendc/projects/.thienenv/lib/python3.10/site-packages (from jinja2->torch>=1.11.0->sentence_transformers) (2.1.3)\n",
      "Requirement already satisfied: mpmath<1.4,>=1.1.0 in /home/thiendc/projects/.thienenv/lib/python3.10/site-packages (from sympy->torch>=1.11.0->sentence_transformers) (1.3.0)\n",
      "Downloading accelerate-1.0.1-py3-none-any.whl (330 kB)\n",
      "Installing collected packages: accelerate\n",
      "Successfully installed accelerate-1.0.1\n"
     ]
    }
   ],
   "source": [
    "!pip install sentence_transformers datasets accelerate"
   ]
  },
  {
   "cell_type": "code",
   "execution_count": 2,
   "metadata": {},
   "outputs": [
    {
     "name": "stderr",
     "output_type": "stream",
     "text": [
      "/home/thiendc/projects/.thienenv/lib/python3.10/site-packages/sentence_transformers/cross_encoder/CrossEncoder.py:13: TqdmExperimentalWarning: Using `tqdm.autonotebook.tqdm` in notebook mode. Use `tqdm.tqdm` instead to force console mode (e.g. in jupyter console)\n",
      "  from tqdm.autonotebook import tqdm, trange\n"
     ]
    }
   ],
   "source": [
    "import random\n",
    "from sentence_transformers import SentenceTransformer\n",
    "from sentence_transformers.evaluation import InformationRetrievalEvaluator\n",
    "from datasets import load_dataset"
   ]
  },
  {
   "cell_type": "code",
   "execution_count": 3,
   "metadata": {},
   "outputs": [
    {
     "data": {
      "application/vnd.jupyter.widget-view+json": {
       "model_id": "b1bc31c1dc0941daa5b39d57f3fa6709",
       "version_major": 2,
       "version_minor": 0
      },
      "text/plain": [
       "README.md:   0%|          | 0.00/426 [00:00<?, ?B/s]"
      ]
     },
     "metadata": {},
     "output_type": "display_data"
    },
    {
     "data": {
      "application/vnd.jupyter.widget-view+json": {
       "model_id": "b3923a3ef7e444869201f3ee13209c41",
       "version_major": 2,
       "version_minor": 0
      },
      "text/plain": [
       "queries-00000-of-00001.parquet:   0%|          | 0.00/58.8k [00:00<?, ?B/s]"
      ]
     },
     "metadata": {},
     "output_type": "display_data"
    },
    {
     "data": {
      "application/vnd.jupyter.widget-view+json": {
       "model_id": "6f4f21fb80ec4aa5b9ee5b1627416cb0",
       "version_major": 2,
       "version_minor": 0
      },
      "text/plain": [
       "corpus-00000-of-00001.parquet:   0%|          | 0.00/482k [00:00<?, ?B/s]"
      ]
     },
     "metadata": {},
     "output_type": "display_data"
    },
    {
     "data": {
      "application/vnd.jupyter.widget-view+json": {
       "model_id": "15e33e94636b4c6c90364707cfda9f1f",
       "version_major": 2,
       "version_minor": 0
      },
      "text/plain": [
       "Generating queries split:   0%|          | 0/639 [00:00<?, ? examples/s]"
      ]
     },
     "metadata": {},
     "output_type": "display_data"
    },
    {
     "data": {
      "application/vnd.jupyter.widget-view+json": {
       "model_id": "aba6315e33d34f9987df1d3bad49d788",
       "version_major": 2,
       "version_minor": 0
      },
      "text/plain": [
       "Generating corpus split:   0%|          | 0/562 [00:00<?, ? examples/s]"
      ]
     },
     "metadata": {},
     "output_type": "display_data"
    },
    {
     "data": {
      "application/vnd.jupyter.widget-view+json": {
       "model_id": "0ed5661bbaef4304871a010cfb95f29e",
       "version_major": 2,
       "version_minor": 0
      },
      "text/plain": [
       "README.md:   0%|          | 0.00/312 [00:00<?, ?B/s]"
      ]
     },
     "metadata": {},
     "output_type": "display_data"
    },
    {
     "data": {
      "application/vnd.jupyter.widget-view+json": {
       "model_id": "83f4103c3ed9484fb6a9fcc7631ba98e",
       "version_major": 2,
       "version_minor": 0
      },
      "text/plain": [
       "train-00000-of-00001.parquet:   0%|          | 0.00/29.0k [00:00<?, ?B/s]"
      ]
     },
     "metadata": {},
     "output_type": "display_data"
    },
    {
     "data": {
      "application/vnd.jupyter.widget-view+json": {
       "model_id": "159b17e98b1d4a26aac09155e42837ab",
       "version_major": 2,
       "version_minor": 0
      },
      "text/plain": [
       "Generating train split:   0%|          | 0/699 [00:00<?, ? examples/s]"
      ]
     },
     "metadata": {},
     "output_type": "display_data"
    }
   ],
   "source": [
    "corpus = load_dataset(\"hiieu/legal_eval\", split=\"corpus\")\n",
    "queries = load_dataset(\"hiieu/legal_eval\", split=\"queries\")\n",
    "relevant_docs_data = load_dataset(\"hiieu/legal_eval_label\", split=\"train\")\n",
    "# Convert the datasets to dictionaries\n",
    "corpus = dict(zip(corpus[\"id\"], corpus[\"text\"]))  # Our corpus (cid => document)\n",
    "queries = dict(zip(queries[\"id\"], queries[\"text\"]))  # Our queries (qid => question)\n",
    "relevant_docs = {}  # Query ID to relevant documents (qid => set([relevant_cids])\n",
    "for qid, corpus_ids in zip(relevant_docs_data[\"question_id\"], relevant_docs_data[\"corpus_id\"]):\n",
    "    qid = str(qid)\n",
    "    corpus_ids = str(corpus_ids)\n",
    "    if qid not in relevant_docs:\n",
    "        relevant_docs[qid] = set()\n",
    "    relevant_docs[qid].add(corpus_ids)"
   ]
  },
  {
   "cell_type": "code",
   "execution_count": 5,
   "metadata": {},
   "outputs": [
    {
     "data": {
      "application/vnd.jupyter.widget-view+json": {
       "model_id": "4458c8381dc340368bc72eebdbee95b7",
       "version_major": 2,
       "version_minor": 0
      },
      "text/plain": [
       "modules.json:   0%|          | 0.00/349 [00:00<?, ?B/s]"
      ]
     },
     "metadata": {},
     "output_type": "display_data"
    },
    {
     "data": {
      "application/vnd.jupyter.widget-view+json": {
       "model_id": "f67f340537a943a88285d33790aec8c0",
       "version_major": 2,
       "version_minor": 0
      },
      "text/plain": [
       "config_sentence_transformers.json:   0%|          | 0.00/201 [00:00<?, ?B/s]"
      ]
     },
     "metadata": {},
     "output_type": "display_data"
    },
    {
     "data": {
      "application/vnd.jupyter.widget-view+json": {
       "model_id": "403ad67ee243498cae53fd7281e34e9b",
       "version_major": 2,
       "version_minor": 0
      },
      "text/plain": [
       "README.md:   0%|          | 0.00/13.7k [00:00<?, ?B/s]"
      ]
     },
     "metadata": {},
     "output_type": "display_data"
    },
    {
     "data": {
      "application/vnd.jupyter.widget-view+json": {
       "model_id": "9b94120769334a6faaf8ddd570c81ce1",
       "version_major": 2,
       "version_minor": 0
      },
      "text/plain": [
       "sentence_bert_config.json:   0%|          | 0.00/53.0 [00:00<?, ?B/s]"
      ]
     },
     "metadata": {},
     "output_type": "display_data"
    },
    {
     "data": {
      "application/vnd.jupyter.widget-view+json": {
       "model_id": "a5444183a975419aa702689f0f715084",
       "version_major": 2,
       "version_minor": 0
      },
      "text/plain": [
       "config.json:   0%|          | 0.00/749 [00:00<?, ?B/s]"
      ]
     },
     "metadata": {},
     "output_type": "display_data"
    },
    {
     "data": {
      "application/vnd.jupyter.widget-view+json": {
       "model_id": "cd681bd99ffe4c9fb9718f36a593dd61",
       "version_major": 2,
       "version_minor": 0
      },
      "text/plain": [
       "model.safetensors:   0%|          | 0.00/1.11G [00:00<?, ?B/s]"
      ]
     },
     "metadata": {},
     "output_type": "display_data"
    },
    {
     "data": {
      "application/vnd.jupyter.widget-view+json": {
       "model_id": "ccb499245cba437b93c9e6f3522bc875",
       "version_major": 2,
       "version_minor": 0
      },
      "text/plain": [
       "tokenizer_config.json:   0%|          | 0.00/1.34k [00:00<?, ?B/s]"
      ]
     },
     "metadata": {},
     "output_type": "display_data"
    },
    {
     "data": {
      "application/vnd.jupyter.widget-view+json": {
       "model_id": "e3aebc133c904def947854939ff30c30",
       "version_major": 2,
       "version_minor": 0
      },
      "text/plain": [
       "tokenizer.json:   0%|          | 0.00/17.1M [00:00<?, ?B/s]"
      ]
     },
     "metadata": {},
     "output_type": "display_data"
    },
    {
     "data": {
      "application/vnd.jupyter.widget-view+json": {
       "model_id": "41c47112ec6f470b88b379210edf2b81",
       "version_major": 2,
       "version_minor": 0
      },
      "text/plain": [
       "special_tokens_map.json:   0%|          | 0.00/964 [00:00<?, ?B/s]"
      ]
     },
     "metadata": {},
     "output_type": "display_data"
    },
    {
     "data": {
      "application/vnd.jupyter.widget-view+json": {
       "model_id": "fa25364b593a4e36b8de5336aeea9d8e",
       "version_major": 2,
       "version_minor": 0
      },
      "text/plain": [
       "1_Pooling/config.json:   0%|          | 0.00/296 [00:00<?, ?B/s]"
      ]
     },
     "metadata": {},
     "output_type": "display_data"
    }
   ],
   "source": [
    "\n",
    "import json\n",
    "import torch\n",
    "from sentence_transformers import SentenceTransformer\n",
    "from sentence_transformers.evaluation import (\n",
    "    InformationRetrievalEvaluator,\n",
    "    SequentialEvaluator,\n",
    ")\n",
    "from sentence_transformers.util import cos_sim\n",
    "from datasets import load_dataset, concatenate_datasets\n",
    "\n",
    "model = SentenceTransformer(\"hiieu/halong_embedding\")\n",
    "matryoshka_dimensions = [768, 512, 256, 128, 64] # Important: large to small\n",
    "matryoshka_evaluators = []\n",
    "# Iterate over the different dimensions\n",
    "for dim in matryoshka_dimensions:\n",
    "    ir_evaluator = InformationRetrievalEvaluator(\n",
    "        queries=queries,\n",
    "        corpus=corpus,\n",
    "        relevant_docs=relevant_docs,\n",
    "        name=f\"dim_{dim}\",\n",
    "        truncate_dim=dim,  # Truncate the embeddings to a certain dimension\n",
    "        score_functions={\"cosine\": cos_sim},\n",
    "    )\n",
    "    matryoshka_evaluators.append(ir_evaluator)\n",
    "\n",
    "# Create a sequential evaluator\n",
    "evaluator = SequentialEvaluator(matryoshka_evaluators)"
   ]
  },
  {
   "cell_type": "code",
   "execution_count": 6,
   "metadata": {},
   "outputs": [
    {
     "name": "stdout",
     "output_type": "stream",
     "text": [
      "dim_768_cosine_accuracy@1 0.8294209702660407\n",
      "dim_768_cosine_accuracy@3 0.9233176838810642\n",
      "dim_768_cosine_accuracy@5 0.9436619718309859\n",
      "dim_768_cosine_accuracy@10 0.9687010954616588\n",
      "dim_768_cosine_precision@1 0.8294209702660407\n",
      "dim_768_cosine_precision@3 0.3145539906103286\n",
      "dim_768_cosine_precision@5 0.1931142410015649\n",
      "dim_768_cosine_precision@10 0.09906103286384975\n",
      "dim_768_cosine_recall@1 0.8145539906103286\n",
      "dim_768_cosine_recall@3 0.9178403755868545\n",
      "dim_768_cosine_recall@5 0.9389671361502347\n",
      "dim_768_cosine_recall@10 0.9640062597809077\n",
      "dim_768_cosine_ndcg@10 0.8976041381292648\n",
      "dim_768_cosine_mrr@10 0.879893558884169\n",
      "dim_768_cosine_map@100 0.8763179130484675\n",
      "dim_512_cosine_accuracy@1 0.8137715179968701\n",
      "dim_512_cosine_accuracy@3 0.9233176838810642\n",
      "dim_512_cosine_accuracy@5 0.9389671361502347\n",
      "dim_512_cosine_accuracy@10 0.9702660406885759\n",
      "dim_512_cosine_precision@1 0.8137715179968701\n",
      "dim_512_cosine_precision@3 0.3145539906103286\n",
      "dim_512_cosine_precision@5 0.1921752738654147\n",
      "dim_512_cosine_precision@10 0.09921752738654145\n",
      "dim_512_cosine_recall@1 0.798904538341158\n",
      "dim_512_cosine_recall@3 0.9178403755868545\n",
      "dim_512_cosine_recall@5 0.9342723004694836\n",
      "dim_512_cosine_recall@10 0.9655712050078247\n",
      "dim_512_cosine_ndcg@10 0.8917052425562502\n",
      "dim_512_cosine_mrr@10 0.8715204809101522\n",
      "dim_512_cosine_map@100 0.8677541223761247\n",
      "dim_256_cosine_accuracy@1 0.7934272300469484\n",
      "dim_256_cosine_accuracy@3 0.8967136150234741\n",
      "dim_256_cosine_accuracy@5 0.9280125195618153\n",
      "dim_256_cosine_accuracy@10 0.9593114241001565\n",
      "dim_256_cosine_precision@1 0.7934272300469484\n",
      "dim_256_cosine_precision@3 0.306207616066771\n",
      "dim_256_cosine_precision@5 0.1899843505477308\n",
      "dim_256_cosine_precision@10 0.0981220657276995\n",
      "dim_256_cosine_recall@1 0.7785602503912363\n",
      "dim_256_cosine_recall@3 0.892018779342723\n",
      "dim_256_cosine_recall@5 0.9233176838810642\n",
      "dim_256_cosine_recall@10 0.9546165884194053\n",
      "dim_256_cosine_ndcg@10 0.8743116546672154\n",
      "dim_256_cosine_mrr@10 0.8519605286037208\n",
      "dim_256_cosine_map@100 0.8489415259445998\n",
      "dim_128_cosine_accuracy@1 0.784037558685446\n",
      "dim_128_cosine_accuracy@3 0.8951486697965572\n",
      "dim_128_cosine_accuracy@5 0.9264475743348983\n",
      "dim_128_cosine_accuracy@10 0.9514866979655712\n",
      "dim_128_cosine_precision@1 0.784037558685446\n",
      "dim_128_cosine_precision@3 0.3046426708398539\n",
      "dim_128_cosine_precision@5 0.189358372456964\n",
      "dim_128_cosine_precision@10 0.0974960876369327\n",
      "dim_128_cosine_recall@1 0.770735524256651\n",
      "dim_128_cosine_recall@3 0.8888888888888888\n",
      "dim_128_cosine_recall@5 0.9209702660406885\n",
      "dim_128_cosine_recall@10 0.9475743348982786\n",
      "dim_128_cosine_ndcg@10 0.8669413113955771\n",
      "dim_128_cosine_mrr@10 0.8438960926050127\n",
      "dim_128_cosine_map@100 0.8412124852625058\n",
      "dim_64_cosine_accuracy@1 0.6979655712050078\n",
      "dim_64_cosine_accuracy@3 0.8435054773082942\n",
      "dim_64_cosine_accuracy@5 0.892018779342723\n",
      "dim_64_cosine_accuracy@10 0.9358372456964006\n",
      "dim_64_cosine_precision@1 0.6979655712050078\n",
      "dim_64_cosine_precision@3 0.2863849765258216\n",
      "dim_64_cosine_precision@5 0.1815336463223787\n",
      "dim_64_cosine_precision@10 0.09577464788732393\n",
      "dim_64_cosine_recall@1 0.6854460093896714\n",
      "dim_64_cosine_recall@3 0.8364632237871674\n",
      "dim_64_cosine_recall@5 0.8841940532081377\n",
      "dim_64_cosine_recall@10 0.9311424100156495\n",
      "dim_64_cosine_ndcg@10 0.8144753860638099\n",
      "dim_64_cosine_mrr@10 0.7805387882852668\n",
      "dim_64_cosine_map@100 0.7774758245424915\n",
      "sequential_score 0.7774758245424915\n"
     ]
    }
   ],
   "source": [
    "results = evaluator(model)\n",
    "for k,v in results.items():\n",
    "    print(k, v)"
   ]
  },
  {
   "cell_type": "code",
   "execution_count": 7,
   "metadata": {},
   "outputs": [
    {
     "data": {
      "text/plain": [
       "{'anchor': 'Khi có sự cố, tai nạn giao thông đường sắt đô thị, doanh nghiệp kinh doanh đường sắt báo ngay tin cho ai?',\n",
       " 'positive': 'Điều 22. Báo tin và xử lý tin báo về sự cố, tai nạn giao thông đường sắt1. Khi có sự cố, tai nạn xảy ra lái tàu hoặc nhân viên hỗ trợ an toàn phải báo ngay cho nhân viên điều độ chạy tàu.\\n2. Nhân viên điều độ chạy tàu phải báo ngay cho những tổ chức, cá nhân sau đây:\\na) Các ga hai đầu khu gian;\\nb) Doanh nghiệp kinh doanh đường sắt đô thị.\\n3. Doanh nghiệp kinh doanh đường sắt đô thị phải báo ngay cho những tổ chức, cá nhân sau đây:\\na) Cơ quan công an nơi gần nhất;\\nb) Ủy ban nhân dân cấp tỉnh (trong trường hợp xảy ra tai nạn chết người và trong các trường hợp cần sự phối hợp của Ủy ban nhân dân các cấp) và các đơn vị có liên quan.\\n4. Doanh nghiệp kinh doanh đường sắt đô thị quy định việc báo tin sự cố giao thông đường sắt gây ra không phải dừng tàu, không bế tắc chính tuyến, không ảnh hưởng đến biểu đồ chạy tàu.\\n5. Trường hợp quá thời gian chạy tàu trong khu gian theo kế hoạch chạy tàu mà không xác định được thông tin về đoàn tàu, nhân viên phục vụ chạy tàu tại ga đón phải thông báo tới Tổ chức điều hành giao thông vận tải đường sắt đô thị để có biện pháp xử lý tình huống và tổ chức xác định vị trí đoàn tàu trong khu gian. Đồng thời báo ngay cho nhân viên điều độ chạy tàu để có biện pháp xử lý tình huống.\\n6. Biện pháp báo tin:\\na) Khi xảy ra sự cố, tai nạn các cá nhân có liên quan phải nhanh chóng tìm mọi biện pháp, thông qua các phương tiện thông tin, liên lạc hoặc gặp trực tiếp để báo tin về sự cố, tai nạn đến các tổ chức, cá nhân có liên quan theo quy định tại Khoản 1, Khoản 2 và Khoản 3 Điều này;\\nb) Trong trường hợp các cá nhân quy định tại Khoản 1, Khoản 2 và Khoản 3 Điều này không thể liên lạc được với một trong số các tổ chức, cá nhân có liên quan thì yêu cầu tổ chức, cá nhân mình đã liên lạc được cùng phối hợp, hỗ trợ trong việc báo tin cho tổ chức, cá nhân còn lại.\\n7. Nội dung thông tin ban đầu về sự cố, tai nạn phải kịp thời, chính xác và bao gồm các nội dung sau:\\na) Địa điểm xảy ra sự cố, tai nạn (km, khu gian, xã, phường, quận, huyện, tỉnh, thành phố);\\nb) Thời gian xảy ra sự cố, tai nạn;\\nc) Số người chết, số người bị thương (nếu có);\\nd) Sơ bộ trạng thái hiện trường, phương tiện bị sự cố, tai nạn; kết cấu hạ tầng bị ảnh hưởng do sự cố, tai nạn gây ra;\\nđ) Ngoài việc báo tin ban đầu theo quy định tại Khoản 1 Điều này, nhân viên điều độ chạy tàu phải lập báo cáo tai nạn theo Mẫu quy định tại Phụ lục số 1 ban hành kèm theo Thông tư này. Báo cáo tai nạn được gửi cùng Hồ sơ vụ việc về sự cố, tai nạn tới các cơ quan chức năng theo quy định tại Khoản 3 Điều 22 của Thông tư này.\\n8. Xử lý tin báo về sự cố, tai nạn:\\na. Mọi tổ chức, cá nhân khi nhận được tin báo về sự cố, tai nạn hoặc yêu cầu phối hợp, hỗ trợ trong việc báo tin phải tìm mọi biện pháp để thực hiện theo đề nghị và báo lại cho người đề nghị (nếu được), đồng thời phải triển khai thực hiện ngay các công việc, biện pháp nghiệp vụ theo quy định nếu vụ tai nạn, sự cố thuộc phạm vi, trách nhiệm của mình.\\nb. Nếu sự cố, tai nạn không thuộc phạm vi, trách nhiệm giải quyết của mình thì tiếp tục báo tin cho tổ chức, cá nhân có trách nhiệm, phải phối hợp, hỗ trợ chặt chẽ khi có đề nghị của tổ chức, cá nhân có trách nhiệm.'}"
      ]
     },
     "execution_count": 7,
     "metadata": {},
     "output_type": "execute_result"
    }
   ],
   "source": [
    "import pandas as pd\n",
    "from datasets import Dataset\n",
    "\n",
    "def prepare_training_dataset(queries, corpus, relevant_docs):\n",
    "    anchors = []\n",
    "    positives = []\n",
    "    for query_id, docs in relevant_docs.items():\n",
    "        for doc_id in docs:\n",
    "          anchors.append(queries[query_id])\n",
    "          positives.append(corpus[doc_id] )\n",
    "    df = {\n",
    "        \"anchor\": anchors,\n",
    "        \"positive\": positives\n",
    "    }\n",
    "\n",
    "    return Dataset.from_dict(df)\n",
    "\n",
    "pairs = prepare_training_dataset(queries, corpus, relevant_docs)\n",
    "pairs[0]"
   ]
  },
  {
   "cell_type": "code",
   "execution_count": 8,
   "metadata": {},
   "outputs": [],
   "source": [
    "from sentence_transformers.losses import MatryoshkaLoss, MultipleNegativesRankingLoss\n",
    "\n",
    "matryoshka_dimensions = [768, 512, 256, 128, 64]  # Important: large to small\n",
    "inner_train_loss = MultipleNegativesRankingLoss(model)\n",
    "train_loss = MatryoshkaLoss(\n",
    "    model, inner_train_loss, matryoshka_dims=matryoshka_dimensions\n",
    ")"
   ]
  },
  {
   "cell_type": "code",
   "execution_count": 10,
   "metadata": {},
   "outputs": [
    {
     "data": {
      "text/plain": [
       "'2.0.1'"
      ]
     },
     "execution_count": 10,
     "metadata": {},
     "output_type": "execute_result"
    }
   ],
   "source": [
    "import torch\n",
    "\n",
    "# Get the current version of PyTorch\n",
    "torch_version = torch.__version__\n",
    "torch_version"
   ]
  },
  {
   "cell_type": "code",
   "execution_count": 15,
   "metadata": {},
   "outputs": [
    {
     "name": "stderr",
     "output_type": "stream",
     "text": [
      "Currently using DataParallel (DP) for multi-gpu training, while DistributedDataParallel (DDP) is recommended for faster training. See https://sbert.net/docs/sentence_transformer/training/distributed.html for more information.\n"
     ]
    }
   ],
   "source": [
    "from sentence_transformers import SentenceTransformerTrainingArguments\n",
    "from sentence_transformers.training_args import BatchSamplers\n",
    "\n",
    "# torch.distributed.init_process_group(backend='nccl')\n",
    "# define training arguments\n",
    "args = SentenceTransformerTrainingArguments(\n",
    "    output_dir=\"sample\", # output directory and hugging face model ID\n",
    "    num_train_epochs=1,                         # number of epochs\n",
    "    per_device_train_batch_size=4,             # train batch size\n",
    "    gradient_accumulation_steps=2,             # for a global batch size of 512\n",
    "    per_device_eval_batch_size=4,              # evaluation batch size\n",
    "    #gradient_checkpointing=True,\n",
    "    warmup_ratio=0.1,                           # warmup ratio\n",
    "    learning_rate=2e-5,                         # learning rate, 2e-5 is a good value\n",
    "    lr_scheduler_type=\"cosine\",                 # use constant learning rate scheduler\n",
    "    optim=\"adamw_torch_fused\",                  # use fused adamw optimizer\n",
    "    #tf32=True,                                  # use tf32 precision\n",
    "    fp16=True,                                  # use bf16 precision\n",
    "    batch_sampler=BatchSamplers.NO_DUPLICATES,  # MultipleNegativesRankingLoss benefits from no duplicate samples in a batch\n",
    "    eval_strategy=\"steps\",                      # evaluate after each epoch\n",
    "    #save_strategy=\"epoch\",                      # save after each epoch\n",
    "    save_steps = 500,\n",
    "    logging_steps=10,                           # log every 10 steps\n",
    "    save_total_limit=3,                         # save only the last 3 models\n",
    "    load_best_model_at_end=True,                # load the best model when training ends\n",
    "    metric_for_best_model=\"eval_dim_768_cosine_ndcg@10\",  # Optimizing for the best ndcg@10 score for the 128 dimension\n",
    ")\n"
   ]
  },
  {
   "cell_type": "code",
   "execution_count": 16,
   "metadata": {},
   "outputs": [
    {
     "name": "stderr",
     "output_type": "stream",
     "text": [
      "Detected kernel version 5.4.0, which is below the recommended minimum of 5.5.0; this can cause the process to hang. It is recommended to upgrade the kernel to the minimum version or higher.\n"
     ]
    },
    {
     "data": {
      "text/html": [
       "\n",
       "    <div>\n",
       "      \n",
       "      <progress value='21' max='21' style='width:300px; height:20px; vertical-align: middle;'></progress>\n",
       "      [21/21 05:33, Epoch 1/1]\n",
       "    </div>\n",
       "    <table border=\"1\" class=\"dataframe\">\n",
       "  <thead>\n",
       " <tr style=\"text-align: left;\">\n",
       "      <th>Step</th>\n",
       "      <th>Training Loss</th>\n",
       "      <th>Validation Loss</th>\n",
       "      <th>Dim 768 Cosine Accuracy@1</th>\n",
       "      <th>Dim 768 Cosine Accuracy@3</th>\n",
       "      <th>Dim 768 Cosine Accuracy@5</th>\n",
       "      <th>Dim 768 Cosine Accuracy@10</th>\n",
       "      <th>Dim 768 Cosine Precision@1</th>\n",
       "      <th>Dim 768 Cosine Precision@3</th>\n",
       "      <th>Dim 768 Cosine Precision@5</th>\n",
       "      <th>Dim 768 Cosine Precision@10</th>\n",
       "      <th>Dim 768 Cosine Recall@1</th>\n",
       "      <th>Dim 768 Cosine Recall@3</th>\n",
       "      <th>Dim 768 Cosine Recall@5</th>\n",
       "      <th>Dim 768 Cosine Recall@10</th>\n",
       "      <th>Dim 768 Cosine Ndcg@10</th>\n",
       "      <th>Dim 768 Cosine Mrr@10</th>\n",
       "      <th>Dim 768 Cosine Map@100</th>\n",
       "      <th>Dim 512 Cosine Accuracy@1</th>\n",
       "      <th>Dim 512 Cosine Accuracy@3</th>\n",
       "      <th>Dim 512 Cosine Accuracy@5</th>\n",
       "      <th>Dim 512 Cosine Accuracy@10</th>\n",
       "      <th>Dim 512 Cosine Precision@1</th>\n",
       "      <th>Dim 512 Cosine Precision@3</th>\n",
       "      <th>Dim 512 Cosine Precision@5</th>\n",
       "      <th>Dim 512 Cosine Precision@10</th>\n",
       "      <th>Dim 512 Cosine Recall@1</th>\n",
       "      <th>Dim 512 Cosine Recall@3</th>\n",
       "      <th>Dim 512 Cosine Recall@5</th>\n",
       "      <th>Dim 512 Cosine Recall@10</th>\n",
       "      <th>Dim 512 Cosine Ndcg@10</th>\n",
       "      <th>Dim 512 Cosine Mrr@10</th>\n",
       "      <th>Dim 512 Cosine Map@100</th>\n",
       "      <th>Dim 256 Cosine Accuracy@1</th>\n",
       "      <th>Dim 256 Cosine Accuracy@3</th>\n",
       "      <th>Dim 256 Cosine Accuracy@5</th>\n",
       "      <th>Dim 256 Cosine Accuracy@10</th>\n",
       "      <th>Dim 256 Cosine Precision@1</th>\n",
       "      <th>Dim 256 Cosine Precision@3</th>\n",
       "      <th>Dim 256 Cosine Precision@5</th>\n",
       "      <th>Dim 256 Cosine Precision@10</th>\n",
       "      <th>Dim 256 Cosine Recall@1</th>\n",
       "      <th>Dim 256 Cosine Recall@3</th>\n",
       "      <th>Dim 256 Cosine Recall@5</th>\n",
       "      <th>Dim 256 Cosine Recall@10</th>\n",
       "      <th>Dim 256 Cosine Ndcg@10</th>\n",
       "      <th>Dim 256 Cosine Mrr@10</th>\n",
       "      <th>Dim 256 Cosine Map@100</th>\n",
       "      <th>Dim 128 Cosine Accuracy@1</th>\n",
       "      <th>Dim 128 Cosine Accuracy@3</th>\n",
       "      <th>Dim 128 Cosine Accuracy@5</th>\n",
       "      <th>Dim 128 Cosine Accuracy@10</th>\n",
       "      <th>Dim 128 Cosine Precision@1</th>\n",
       "      <th>Dim 128 Cosine Precision@3</th>\n",
       "      <th>Dim 128 Cosine Precision@5</th>\n",
       "      <th>Dim 128 Cosine Precision@10</th>\n",
       "      <th>Dim 128 Cosine Recall@1</th>\n",
       "      <th>Dim 128 Cosine Recall@3</th>\n",
       "      <th>Dim 128 Cosine Recall@5</th>\n",
       "      <th>Dim 128 Cosine Recall@10</th>\n",
       "      <th>Dim 128 Cosine Ndcg@10</th>\n",
       "      <th>Dim 128 Cosine Mrr@10</th>\n",
       "      <th>Dim 128 Cosine Map@100</th>\n",
       "      <th>Dim 64 Cosine Accuracy@1</th>\n",
       "      <th>Dim 64 Cosine Accuracy@3</th>\n",
       "      <th>Dim 64 Cosine Accuracy@5</th>\n",
       "      <th>Dim 64 Cosine Accuracy@10</th>\n",
       "      <th>Dim 64 Cosine Precision@1</th>\n",
       "      <th>Dim 64 Cosine Precision@3</th>\n",
       "      <th>Dim 64 Cosine Precision@5</th>\n",
       "      <th>Dim 64 Cosine Precision@10</th>\n",
       "      <th>Dim 64 Cosine Recall@1</th>\n",
       "      <th>Dim 64 Cosine Recall@3</th>\n",
       "      <th>Dim 64 Cosine Recall@5</th>\n",
       "      <th>Dim 64 Cosine Recall@10</th>\n",
       "      <th>Dim 64 Cosine Ndcg@10</th>\n",
       "      <th>Dim 64 Cosine Mrr@10</th>\n",
       "      <th>Dim 64 Cosine Map@100</th>\n",
       "      <th>Sequential Score</th>\n",
       "    </tr>\n",
       "  </thead>\n",
       "  <tbody>\n",
       "    <tr>\n",
       "      <td>10</td>\n",
       "      <td>0.937300</td>\n",
       "      <td>No log</td>\n",
       "      <td>0.843505</td>\n",
       "      <td>0.959311</td>\n",
       "      <td>0.974961</td>\n",
       "      <td>0.985915</td>\n",
       "      <td>0.843505</td>\n",
       "      <td>0.327074</td>\n",
       "      <td>0.200000</td>\n",
       "      <td>0.101095</td>\n",
       "      <td>0.829421</td>\n",
       "      <td>0.954617</td>\n",
       "      <td>0.971831</td>\n",
       "      <td>0.982786</td>\n",
       "      <td>0.919873</td>\n",
       "      <td>0.901638</td>\n",
       "      <td>0.898474</td>\n",
       "      <td>0.845070</td>\n",
       "      <td>0.957746</td>\n",
       "      <td>0.974961</td>\n",
       "      <td>0.987480</td>\n",
       "      <td>0.845070</td>\n",
       "      <td>0.326552</td>\n",
       "      <td>0.200000</td>\n",
       "      <td>0.101252</td>\n",
       "      <td>0.830986</td>\n",
       "      <td>0.953052</td>\n",
       "      <td>0.971831</td>\n",
       "      <td>0.984351</td>\n",
       "      <td>0.920941</td>\n",
       "      <td>0.902395</td>\n",
       "      <td>0.899354</td>\n",
       "      <td>0.834116</td>\n",
       "      <td>0.949922</td>\n",
       "      <td>0.968701</td>\n",
       "      <td>0.981221</td>\n",
       "      <td>0.834116</td>\n",
       "      <td>0.323422</td>\n",
       "      <td>0.198435</td>\n",
       "      <td>0.100626</td>\n",
       "      <td>0.819249</td>\n",
       "      <td>0.944444</td>\n",
       "      <td>0.964789</td>\n",
       "      <td>0.978091</td>\n",
       "      <td>0.913018</td>\n",
       "      <td>0.894211</td>\n",
       "      <td>0.891096</td>\n",
       "      <td>0.837246</td>\n",
       "      <td>0.940532</td>\n",
       "      <td>0.959311</td>\n",
       "      <td>0.978091</td>\n",
       "      <td>0.837246</td>\n",
       "      <td>0.320814</td>\n",
       "      <td>0.196870</td>\n",
       "      <td>0.100469</td>\n",
       "      <td>0.823161</td>\n",
       "      <td>0.935837</td>\n",
       "      <td>0.956182</td>\n",
       "      <td>0.975743</td>\n",
       "      <td>0.910541</td>\n",
       "      <td>0.891603</td>\n",
       "      <td>0.888950</td>\n",
       "      <td>0.779343</td>\n",
       "      <td>0.923318</td>\n",
       "      <td>0.948357</td>\n",
       "      <td>0.973396</td>\n",
       "      <td>0.779343</td>\n",
       "      <td>0.313511</td>\n",
       "      <td>0.194679</td>\n",
       "      <td>0.100000</td>\n",
       "      <td>0.765258</td>\n",
       "      <td>0.916275</td>\n",
       "      <td>0.945227</td>\n",
       "      <td>0.971049</td>\n",
       "      <td>0.881243</td>\n",
       "      <td>0.854637</td>\n",
       "      <td>0.851300</td>\n",
       "      <td>0.851300</td>\n",
       "    </tr>\n",
       "    <tr>\n",
       "      <td>20</td>\n",
       "      <td>0.711800</td>\n",
       "      <td>No log</td>\n",
       "      <td>0.849765</td>\n",
       "      <td>0.960876</td>\n",
       "      <td>0.979656</td>\n",
       "      <td>0.990610</td>\n",
       "      <td>0.849765</td>\n",
       "      <td>0.327595</td>\n",
       "      <td>0.200939</td>\n",
       "      <td>0.101565</td>\n",
       "      <td>0.835681</td>\n",
       "      <td>0.956182</td>\n",
       "      <td>0.976526</td>\n",
       "      <td>0.987480</td>\n",
       "      <td>0.925194</td>\n",
       "      <td>0.907144</td>\n",
       "      <td>0.903909</td>\n",
       "      <td>0.849765</td>\n",
       "      <td>0.964006</td>\n",
       "      <td>0.978091</td>\n",
       "      <td>0.995305</td>\n",
       "      <td>0.849765</td>\n",
       "      <td>0.328638</td>\n",
       "      <td>0.200626</td>\n",
       "      <td>0.102191</td>\n",
       "      <td>0.834898</td>\n",
       "      <td>0.959311</td>\n",
       "      <td>0.974961</td>\n",
       "      <td>0.992958</td>\n",
       "      <td>0.926479</td>\n",
       "      <td>0.907309</td>\n",
       "      <td>0.903512</td>\n",
       "      <td>0.840376</td>\n",
       "      <td>0.957746</td>\n",
       "      <td>0.971831</td>\n",
       "      <td>0.985915</td>\n",
       "      <td>0.840376</td>\n",
       "      <td>0.326552</td>\n",
       "      <td>0.199374</td>\n",
       "      <td>0.101252</td>\n",
       "      <td>0.825509</td>\n",
       "      <td>0.953052</td>\n",
       "      <td>0.968701</td>\n",
       "      <td>0.983568</td>\n",
       "      <td>0.918827</td>\n",
       "      <td>0.900027</td>\n",
       "      <td>0.896893</td>\n",
       "      <td>0.840376</td>\n",
       "      <td>0.946792</td>\n",
       "      <td>0.964006</td>\n",
       "      <td>0.984351</td>\n",
       "      <td>0.840376</td>\n",
       "      <td>0.323422</td>\n",
       "      <td>0.198122</td>\n",
       "      <td>0.101095</td>\n",
       "      <td>0.826291</td>\n",
       "      <td>0.942879</td>\n",
       "      <td>0.961659</td>\n",
       "      <td>0.982003</td>\n",
       "      <td>0.915662</td>\n",
       "      <td>0.896208</td>\n",
       "      <td>0.893699</td>\n",
       "      <td>0.793427</td>\n",
       "      <td>0.924883</td>\n",
       "      <td>0.957746</td>\n",
       "      <td>0.976526</td>\n",
       "      <td>0.793427</td>\n",
       "      <td>0.314554</td>\n",
       "      <td>0.196870</td>\n",
       "      <td>0.100313</td>\n",
       "      <td>0.778560</td>\n",
       "      <td>0.918623</td>\n",
       "      <td>0.955399</td>\n",
       "      <td>0.974178</td>\n",
       "      <td>0.889248</td>\n",
       "      <td>0.864471</td>\n",
       "      <td>0.860818</td>\n",
       "      <td>0.860818</td>\n",
       "    </tr>\n",
       "  </tbody>\n",
       "</table><p>"
      ],
      "text/plain": [
       "<IPython.core.display.HTML object>"
      ]
     },
     "metadata": {},
     "output_type": "display_data"
    },
    {
     "data": {
      "application/vnd.jupyter.widget-view+json": {
       "model_id": "3920595a1dfc43c683547ee808fb5c50",
       "version_major": 2,
       "version_minor": 0
      },
      "text/plain": [
       "Computing widget examples:   0%|          | 0/1 [00:00<?, ?example/s]"
      ]
     },
     "metadata": {},
     "output_type": "display_data"
    },
    {
     "data": {
      "text/plain": [
       "TrainOutput(global_step=21, training_loss=0.8058630809897468, metrics={'train_runtime': 337.9295, 'train_samples_per_second': 1.95, 'train_steps_per_second': 0.062, 'total_flos': 0.0, 'train_loss': 0.8058630809897468, 'epoch': 1.0})"
      ]
     },
     "execution_count": 16,
     "metadata": {},
     "output_type": "execute_result"
    }
   ],
   "source": [
    "from sentence_transformers import SentenceTransformerTrainer\n",
    "trainer = SentenceTransformerTrainer(\n",
    "    model=model,\n",
    "    args=args,  # training arguments\n",
    "    train_dataset=pairs,\n",
    "    loss=train_loss,\n",
    "    evaluator=evaluator,\n",
    ")\n",
    "\n",
    "trainer.train()"
   ]
  },
  {
   "cell_type": "code",
   "execution_count": null,
   "metadata": {},
   "outputs": [],
   "source": [
    "### Re-evaluate\n",
    "from sentence_transformers import SentenceTransformer\n",
    "import torch\n",
    "fine_tuned_model = SentenceTransformer(\n",
    "    args.output_dir, device=\"cuda\" if torch.cuda.is_available() else \"cpu\"\n",
    ")\n",
    "# Evaluate the model\n",
    "results = evaluator(fine_tuned_model)\n",
    "\n",
    "for k,v in results.items():\n",
    "    print(k, v)"
   ]
  }
 ],
 "metadata": {
  "kernelspec": {
   "display_name": "Python 3",
   "language": "python",
   "name": "python3"
  },
  "language_info": {
   "codemirror_mode": {
    "name": "ipython",
    "version": 3
   },
   "file_extension": ".py",
   "mimetype": "text/x-python",
   "name": "python",
   "nbconvert_exporter": "python",
   "pygments_lexer": "ipython3",
   "version": "3.10.15"
  }
 },
 "nbformat": 4,
 "nbformat_minor": 2
}
