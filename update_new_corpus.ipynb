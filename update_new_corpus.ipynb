{
 "cells": [
  {
   "cell_type": "code",
   "execution_count": 19,
   "metadata": {},
   "outputs": [],
   "source": [
    "from src.preprocessor.utils.dataset_level import read_json, save_json\n",
    "from src.preprocessor.vocab.legal_dict import LEGAL_DICT\n",
    "from src.preprocessor.vocab.duties_dict import DUTIES\n",
    "from src.preprocessor.vocab.province import PROVINCES\n",
    "origin = read_json(\"./src/preprocessor/vocab/data/update_vocab_v1.json\")\n",
    "\n"
   ]
  },
  {
   "cell_type": "code",
   "execution_count": 20,
   "metadata": {},
   "outputs": [],
   "source": [
    "origin.extend(PROVINCES)\n",
    "origin.extend(DUTIES)\n",
    "origin.extend(LEGAL_DICT)\n",
    "version2 = list(set(origin)) # origin"
   ]
  },
  {
   "cell_type": "code",
   "execution_count": 21,
   "metadata": {},
   "outputs": [],
   "source": [
    "save_json(version2, \"./src/preprocessor/vocab/data/update_vocab_v2.json\")"
   ]
  }
 ],
 "metadata": {
  "kernelspec": {
   "display_name": "Python 3",
   "language": "python",
   "name": "python3"
  },
  "language_info": {
   "codemirror_mode": {
    "name": "ipython",
    "version": 3
   },
   "file_extension": ".py",
   "mimetype": "text/x-python",
   "name": "python",
   "nbconvert_exporter": "python",
   "pygments_lexer": "ipython3",
   "version": "3.10.15"
  }
 },
 "nbformat": 4,
 "nbformat_minor": 2
}
